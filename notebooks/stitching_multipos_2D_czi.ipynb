{
 "cells": [
  {
   "cell_type": "markdown",
   "metadata": {},
   "source": [
    "# Example stitching workflow\n",
    "\n",
    "Using a 3x3 (t,c,y,z) dataset."
   ]
  },
  {
   "cell_type": "code",
   "execution_count": 1,
   "metadata": {},
   "outputs": [],
   "source": [
    "VISUALIZE_USING_NAPARI = True"
   ]
  },
  {
   "cell_type": "code",
   "execution_count": 2,
   "metadata": {},
   "outputs": [],
   "source": [
    "import os, tempfile\n",
    "import numpy as np\n",
    "from pathlib import Path\n",
    "from tqdm import tqdm\n",
    "import dask.diagnostics\n",
    "import dask.array as da\n",
    "\n",
    "from multiview_stitcher import msi_utils\n",
    "# %matplotlib notebook"
   ]
  },
  {
   "cell_type": "code",
   "execution_count": 3,
   "metadata": {},
   "outputs": [],
   "source": [
    "# # Start a dask cluster\n",
    "\n",
    "# from distributed import Client, LocalCluster\n",
    "\n",
    "# lc = LocalCluster(n_workers=1, threads_per_worker=None)\n",
    "# client = Client(lc)\n",
    "# client"
   ]
  },
  {
   "cell_type": "code",
   "execution_count": 12,
   "metadata": {},
   "outputs": [
    {
     "name": "stderr",
     "output_type": "stream",
     "text": [
      "9it [00:00, 52.85it/s]"
     ]
    },
    {
     "name": "stdout",
     "output_type": "stream",
     "text": [
      "Loaded 9 positions from /Users/malbert/software/multiview-stitcher/image-datasets/arthur_20220621_premovie_dish2-max.czi.\n",
      "Transform key is affine_metadata.\n"
     ]
    },
    {
     "name": "stderr",
     "output_type": "stream",
     "text": [
      "\n"
     ]
    }
   ],
   "source": [
    "# Load dataset from file\n",
    "\n",
    "from multiview_stitcher import io\n",
    "\n",
    "filename = Path('/Users/malbert/software/multiview-stitcher/image-datasets/arthur_20220621_premovie_dish2-max.czi')\n",
    "sims = io.read_mosaic_image_into_list_of_spatial_xarrays(filename, scene_index=0)\n",
    "\n",
    "msims = [msi_utils.get_store_decorator(\n",
    "    filename.with_suffix('.tile%03d.zarr' %isim), store_overwrite=False)(\n",
    "        msi_utils.get_msim_from_sim)(sim, None)\n",
    "    for isim, sim in tqdm(enumerate(sims))]\n",
    "\n",
    "# msims = [msi_utils.get_msim_from_sim(sim, scale_factors=[]) for sim in sims]\n",
    "print(f\"Loaded {len(msims)} positions from {filename}.\\nTransform key is {io.METADATA_TRANSFORM_KEY}.\")\n",
    "\n",
    "# consider only first tp\n",
    "# msims = [msi_utils.multiscale_sel_coords(msim, {'t':0}) for msim in msims]\n"
   ]
  },
  {
   "cell_type": "code",
   "execution_count": 5,
   "metadata": {},
   "outputs": [],
   "source": [
    "if VISUALIZE_USING_NAPARI:\n",
    "\n",
    "    from napari_stitcher import viewer_utils\n",
    "    import importlib\n",
    "    viewer_utils = importlib.reload(viewer_utils)\n",
    "    \n",
    "    import napari\n",
    "    viewer = napari.Viewer()\n",
    "    \n",
    "    layer_tuples = viewer_utils.create_image_layer_tuples_from_msims(\n",
    "        msims, n_colors=2, transform_key='affine_metadata')\n",
    "    \n",
    "    viewer_utils.add_image_layer_tuples_to_viewer(viewer, layer_tuples)\n",
    "    \n",
    "    viewer.reset_view()"
   ]
  },
  {
   "cell_type": "code",
   "execution_count": 18,
   "metadata": {},
   "outputs": [
    {
     "name": "stdout",
     "output_type": "stream",
     "text": [
      "Registering...\n",
      "[########################################] | 100% Completed | 4.44 sms\n"
     ]
    }
   ],
   "source": [
    "from multiview_stitcher import registration, fusion, mv_graph\n",
    "\n",
    "import importlib\n",
    "registration = importlib.reload(registration)\n",
    "mv_graph = importlib.reload(mv_graph)\n",
    "\n",
    "print('Registering...')\n",
    "with dask.diagnostics.ProgressBar():\n",
    "    params = registration.register(\n",
    "        msims[:], transform_key='affine_metadata', reg_channel_index=0)\n",
    "\n",
    "for msim, param in zip(msims, params):\n",
    "    msi_utils.set_affine_transform(msim, param, transform_key='affine_registered', base_transform_key='affine_metadata')"
   ]
  },
  {
   "cell_type": "code",
   "execution_count": 19,
   "metadata": {},
   "outputs": [
    {
     "name": "stdout",
     "output_type": "stream",
     "text": [
      "Creating fusion graph...\n",
      "Fusing views...\n",
      "[########################################] | 100% Completed | 12.03 s\n",
      "Creating multiscale output OME-Zarr...\n",
      "[########################################] | 100% Completed | 1.14 sms\n",
      "[########################################] | 100% Completed | 2.73 sms\n",
      "[########################################] | 100% Completed | 3.50 sms\n",
      "[########################################] | 100% Completed | 3.61 sms\n"
     ]
    }
   ],
   "source": [
    "import importlib\n",
    "from multiview_stitcher import transformation\n",
    "fusion = importlib.reload(fusion)\n",
    "transformation = importlib.reload(transformation)\n",
    "\n",
    "print('Creating fusion graph...')\n",
    "with dask.diagnostics.ProgressBar():\n",
    "    fused = fusion.fuse(\n",
    "        [msi_utils.get_sim_from_msim(msim) for msim in msims],\n",
    "        transform_key='affine_registered')#.compute()\n",
    "\n",
    "print('Fusing views...')\n",
    "tmpdir = tempfile.TemporaryDirectory()\n",
    "with dask.diagnostics.ProgressBar():\n",
    "    fused.data = da.to_zarr(\n",
    "        fused.data,\n",
    "        os.path.join(tmpdir.name, 'fused_sim.zarr'),\n",
    "        overwrite=True, return_stored=True, compute=True)\n",
    "\n",
    "print('Creating multiscale output OME-Zarr...')\n",
    "with dask.diagnostics.ProgressBar():\n",
    "\n",
    "    mfused = msi_utils.get_msim_from_sim(fused, scale_factors=None)\n",
    "\n",
    "    fused_path = os.path.join(tmpdir.name, 'fused.zarr')\n",
    "    mfused.to_zarr(fused_path)\n",
    "    \n",
    "mfused = msi_utils.multiscale_spatial_image_from_zarr(fused_path)"
   ]
  },
  {
   "cell_type": "code",
   "execution_count": 20,
   "metadata": {},
   "outputs": [],
   "source": [
    "if VISUALIZE_USING_NAPARI:\n",
    "    \n",
    "    viewer = napari.Viewer(ndisplay=2)\n",
    "\n",
    "    lds = viewer_utils.create_image_layer_tuples_from_msims(\n",
    "        msims, transform_key='affine_metadata', n_colors=2,\n",
    "        name_prefix='pre-registered view',\n",
    "        contrast_limits=(0, 1000),\n",
    "        )\n",
    "    mlayers = viewer_utils.add_image_layer_tuples_to_viewer(viewer, lds, do_link_layers=True)\n",
    "\n",
    "    lds = viewer_utils.create_image_layer_tuples_from_msims(\n",
    "        [msi_utils.multiscale_sel_coords(msim, {'c': 'EGFP'}) for msim in msims],\n",
    "        transform_key='affine_registered', n_colors=2,\n",
    "        name_prefix='registered view',\n",
    "        contrast_limits=(0, 1000),\n",
    "        )\n",
    "    mlayers = viewer_utils.add_image_layer_tuples_to_viewer(viewer, lds, do_link_layers=True)\n",
    "\n",
    "    lds = viewer_utils.create_image_layer_tuples_from_msim(\n",
    "        mfused,\n",
    "        transform_key='affine_registered',\n",
    "        name_prefix='fused',\n",
    "        contrast_limits=[0, 1000])\n",
    "\n",
    "    viewer_utils.add_image_layer_tuples_to_viewer(viewer, lds)\n",
    "\n"
   ]
  },
  {
   "cell_type": "code",
   "execution_count": null,
   "metadata": {},
   "outputs": [],
   "source": [
    "# with dask.diagnostics.ProgressBar():\n",
    "#     io.save_sim_as_tif('fused.tif', fused)"
   ]
  }
 ],
 "metadata": {
  "kernelspec": {
   "display_name": "Python 3 (ipykernel)",
   "language": "python",
   "name": "python3"
  },
  "language_info": {
   "codemirror_mode": {
    "name": "ipython",
    "version": 3
   },
   "file_extension": ".py",
   "mimetype": "text/x-python",
   "name": "python",
   "nbconvert_exporter": "python",
   "pygments_lexer": "ipython3",
   "version": "3.10.12"
  }
 },
 "nbformat": 4,
 "nbformat_minor": 4
}
