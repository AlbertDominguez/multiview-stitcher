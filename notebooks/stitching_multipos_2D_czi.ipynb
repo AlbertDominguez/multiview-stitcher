{
 "cells": [
  {
   "cell_type": "markdown",
   "metadata": {},
   "source": [
    "# Example stitching workflow\n",
    "\n",
    "Using a small example dataset with two positions."
   ]
  },
  {
   "cell_type": "code",
   "execution_count": 1,
   "metadata": {},
   "outputs": [],
   "source": [
    "VISUALIZE_USING_NAPARI = False"
   ]
  },
  {
   "cell_type": "code",
   "execution_count": 2,
   "metadata": {},
   "outputs": [
    {
     "name": "stderr",
     "output_type": "stream",
     "text": [
      "2023-09-25 21:53:22,495 [Geometry3D WARNING] 'Renderer' is deprecated, using 'Visualizer' instead.\n"
     ]
    }
   ],
   "source": [
    "import os, tempfile\n",
    "import numpy as np\n",
    "from pathlib import Path\n",
    "from tqdm import tqdm\n",
    "\n",
    "from ngff_stitcher import sample_data, msi_utils\n",
    "\n",
    "import dask.diagnostics"
   ]
  },
  {
   "cell_type": "code",
   "execution_count": 3,
   "metadata": {},
   "outputs": [
    {
     "name": "stderr",
     "output_type": "stream",
     "text": [
      "9it [00:00, 34.01it/s]"
     ]
    },
    {
     "name": "stdout",
     "output_type": "stream",
     "text": [
      "Loaded 9 positions from /Users/malbert/software/ngff-stitcher/image-datasets/arthur_20220621_premovie_dish2-max.czi. Transform key is affine_metadata.\n"
     ]
    },
    {
     "name": "stderr",
     "output_type": "stream",
     "text": [
      "\n"
     ]
    }
   ],
   "source": [
    "# Load dataset from file\n",
    "\n",
    "from ngff_stitcher import io\n",
    "\n",
    "filename = Path('/Users/malbert/software/ngff-stitcher/image-datasets/arthur_20220621_premovie_dish2-max.czi')\n",
    "sims = io.read_mosaic_image_into_list_of_spatial_xarrays(filename, scene_index=0)\n",
    "\n",
    "msims = [msi_utils.get_store_decorator(\n",
    "    filename.with_suffix('.tile%03d.zarr' %isim), store_overwrite=False)(\n",
    "        msi_utils.get_msim_from_sim)(sim, [])\n",
    "    for isim, sim in tqdm(enumerate(sims))]\n",
    "\n",
    "# msims = [msi_utils.get_msim_from_sim(sim, scale_factors=[]) for sim in sims]\n",
    "print(f\"Loaded {len(msims)} positions from {filename}. Transform key is {io.METADATA_TRANSFORM_KEY}.\")\n",
    "\n",
    "# Test with generated dataset\n",
    "\n",
    "# sims = sample_data.generate_tiled_dataset(\n",
    "#     ndim=2,\n",
    "#     N_t=1,\n",
    "#     N_c=1,\n",
    "#     tile_size=1000,\n",
    "#     tiles_x=5,\n",
    "#     tiles_y=5,\n",
    "#     zoom=4,\n",
    "#     overlap=30,\n",
    "#     drift_scale=0,\n",
    "#     shift_scale=15,\n",
    "# )\n"
   ]
  },
  {
   "cell_type": "code",
   "execution_count": 4,
   "metadata": {},
   "outputs": [],
   "source": [
    "if VISUALIZE_USING_NAPARI:\n",
    "\n",
    "    from napari_stitcher import viewer_utils\n",
    "    import importlib\n",
    "    viewer_utils = importlib.reload(viewer_utils)\n",
    "    \n",
    "    import napari\n",
    "    viewer = napari.Viewer()\n",
    "    \n",
    "    layer_tuples = viewer_utils.create_image_layer_tuples_from_msims(\n",
    "        msims, n_colors=2, transform_key='affine_metadata')\n",
    "    viewer_utils.add_image_layer_tuples_to_viewer(viewer, layer_tuples)\n",
    "    viewer.reset_view()"
   ]
  },
  {
   "cell_type": "code",
   "execution_count": 5,
   "metadata": {},
   "outputs": [
    {
     "name": "stdout",
     "output_type": "stream",
     "text": [
      "Registering...\n",
      "[########################################] | 100% Completed | 4.16 sms\n",
      "Fusing...\n",
      "[########################################] | 100% Completed | 10.99 s\n"
     ]
    }
   ],
   "source": [
    "from ngff_stitcher import registration, fusion, mv_graph\n",
    "\n",
    "import importlib\n",
    "registration = importlib.reload(registration)\n",
    "mv_graph = importlib.reload(mv_graph)\n",
    "\n",
    "print('Registering...')\n",
    "with dask.diagnostics.ProgressBar():\n",
    "    params = registration.register(\n",
    "        msims[:], transform_key='affine_metadata', reg_channel_index=0)\n",
    "\n",
    "for msim, param in zip(msims, params):\n",
    "    msi_utils.set_affine_transform(msim, param, transform_key='affine_registered', base_transform_key='affine_metadata')\n",
    "\n",
    "print('Fusing...')\n",
    "with dask.diagnostics.ProgressBar():\n",
    "    fused = fusion.fuse(\n",
    "        [msi_utils.get_sim_from_msim(msim) for msim in msims],\n",
    "        transform_key='affine_registered').compute()\n",
    "\n",
    "mfused = msi_utils.get_msim_from_sim(fused, scale_factors=[])"
   ]
  },
  {
   "cell_type": "code",
   "execution_count": 9,
   "metadata": {},
   "outputs": [],
   "source": [
    "if VISUALIZE_USING_NAPARI:\n",
    "    \n",
    "    viewer = napari.Viewer(ndisplay=2)\n",
    "\n",
    "    # lds = viewer_utils.create_image_layer_tuples_from_msims(\n",
    "    #     msims, transform_key='affine_metadata', n_colors=2,\n",
    "    #     name_prefix='pre-registered view',\n",
    "    #     contrast_limits=(0, 1000),\n",
    "    #     )\n",
    "    # mlayers = viewer_utils.add_image_layer_tuples_to_viewer(viewer, lds, do_link_layers=True)\n",
    "\n",
    "    lds = viewer_utils.create_image_layer_tuples_from_msims(\n",
    "        msims, transform_key='affine_registered', n_colors=2,\n",
    "        name_prefix='registered view',\n",
    "        contrast_limits=(0, 1000),\n",
    "        )\n",
    "    mlayers = viewer_utils.add_image_layer_tuples_to_viewer(viewer, lds, do_link_layers=True)\n",
    "\n",
    "    lds = viewer_utils.create_image_layer_tuples_from_msim(\n",
    "        mfused,\n",
    "        transform_key='affine_registered',\n",
    "        name_prefix='fused',\n",
    "        contrast_limits=[0, 1000])\n",
    "\n",
    "    viewer_utils.add_image_layer_tuples_to_viewer(viewer, lds)\n",
    "\n"
   ]
  },
  {
   "cell_type": "code",
   "execution_count": 7,
   "metadata": {},
   "outputs": [],
   "source": [
    "with dask.diagnostics.ProgressBar():\n",
    "    io.save_sim_as_tif('fused.tif', fused)"
   ]
  }
 ],
 "metadata": {
  "kernelspec": {
   "display_name": "Python 3 (ipykernel)",
   "language": "python",
   "name": "python3"
  },
  "language_info": {
   "codemirror_mode": {
    "name": "ipython",
    "version": 3
   },
   "file_extension": ".py",
   "mimetype": "text/x-python",
   "name": "python",
   "nbconvert_exporter": "python",
   "pygments_lexer": "ipython3",
   "version": "3.10.12"
  }
 },
 "nbformat": 4,
 "nbformat_minor": 4
}
