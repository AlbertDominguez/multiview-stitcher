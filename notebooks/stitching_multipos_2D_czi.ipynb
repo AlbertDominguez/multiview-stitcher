{
 "cells": [
  {
   "cell_type": "markdown",
   "metadata": {},
   "source": [
    "# Example stitching workflow\n",
    "\n",
    "Using a small example dataset with two positions."
   ]
  },
  {
   "cell_type": "code",
   "execution_count": 1,
   "metadata": {},
   "outputs": [],
   "source": [
    "VISUALIZE_USING_NAPARI = False"
   ]
  },
  {
   "cell_type": "code",
   "execution_count": 2,
   "metadata": {},
   "outputs": [
    {
     "name": "stderr",
     "output_type": "stream",
     "text": [
      "2023-09-26 11:17:24,376 [Geometry3D WARNING] 'Renderer' is deprecated, using 'Visualizer' instead.\n"
     ]
    }
   ],
   "source": [
    "import os, tempfile\n",
    "import numpy as np\n",
    "from pathlib import Path\n",
    "from tqdm import tqdm\n",
    "import dask.diagnostics\n",
    "\n",
    "from ngff_stitcher import sample_data, msi_utils\n",
    "# %matplotlib notebook"
   ]
  },
  {
   "cell_type": "code",
   "execution_count": 3,
   "metadata": {},
   "outputs": [
    {
     "data": {
      "text/html": [
       "<div>\n",
       "    <div style=\"width: 24px; height: 24px; background-color: #e1e1e1; border: 3px solid #9D9D9D; border-radius: 5px; position: absolute;\"> </div>\n",
       "    <div style=\"margin-left: 48px;\">\n",
       "        <h3 style=\"margin-bottom: 0px;\">Client</h3>\n",
       "        <p style=\"color: #9D9D9D; margin-bottom: 0px;\">Client-82668fac-5c4d-11ee-b8ce-0af085676057</p>\n",
       "        <table style=\"width: 100%; text-align: left;\">\n",
       "\n",
       "        <tr>\n",
       "        \n",
       "            <td style=\"text-align: left;\"><strong>Connection method:</strong> Cluster object</td>\n",
       "            <td style=\"text-align: left;\"><strong>Cluster type:</strong> distributed.LocalCluster</td>\n",
       "        \n",
       "        </tr>\n",
       "\n",
       "        \n",
       "            <tr>\n",
       "                <td style=\"text-align: left;\">\n",
       "                    <strong>Dashboard: </strong> <a href=\"http://127.0.0.1:8787/status\" target=\"_blank\">http://127.0.0.1:8787/status</a>\n",
       "                </td>\n",
       "                <td style=\"text-align: left;\"></td>\n",
       "            </tr>\n",
       "        \n",
       "\n",
       "        </table>\n",
       "\n",
       "        \n",
       "\n",
       "        \n",
       "            <details>\n",
       "            <summary style=\"margin-bottom: 20px;\"><h3 style=\"display: inline;\">Cluster Info</h3></summary>\n",
       "            <div class=\"jp-RenderedHTMLCommon jp-RenderedHTML jp-mod-trusted jp-OutputArea-output\">\n",
       "    <div style=\"width: 24px; height: 24px; background-color: #e1e1e1; border: 3px solid #9D9D9D; border-radius: 5px; position: absolute;\">\n",
       "    </div>\n",
       "    <div style=\"margin-left: 48px;\">\n",
       "        <h3 style=\"margin-bottom: 0px; margin-top: 0px;\">LocalCluster</h3>\n",
       "        <p style=\"color: #9D9D9D; margin-bottom: 0px;\">b85b6b4f</p>\n",
       "        <table style=\"width: 100%; text-align: left;\">\n",
       "            <tr>\n",
       "                <td style=\"text-align: left;\">\n",
       "                    <strong>Dashboard:</strong> <a href=\"http://127.0.0.1:8787/status\" target=\"_blank\">http://127.0.0.1:8787/status</a>\n",
       "                </td>\n",
       "                <td style=\"text-align: left;\">\n",
       "                    <strong>Workers:</strong> 1\n",
       "                </td>\n",
       "            </tr>\n",
       "            <tr>\n",
       "                <td style=\"text-align: left;\">\n",
       "                    <strong>Total threads:</strong> 8\n",
       "                </td>\n",
       "                <td style=\"text-align: left;\">\n",
       "                    <strong>Total memory:</strong> 16.00 GiB\n",
       "                </td>\n",
       "            </tr>\n",
       "            \n",
       "            <tr>\n",
       "    <td style=\"text-align: left;\"><strong>Status:</strong> running</td>\n",
       "    <td style=\"text-align: left;\"><strong>Using processes:</strong> True</td>\n",
       "</tr>\n",
       "\n",
       "            \n",
       "        </table>\n",
       "\n",
       "        <details>\n",
       "            <summary style=\"margin-bottom: 20px;\">\n",
       "                <h3 style=\"display: inline;\">Scheduler Info</h3>\n",
       "            </summary>\n",
       "\n",
       "            <div style=\"\">\n",
       "    <div>\n",
       "        <div style=\"width: 24px; height: 24px; background-color: #FFF7E5; border: 3px solid #FF6132; border-radius: 5px; position: absolute;\"> </div>\n",
       "        <div style=\"margin-left: 48px;\">\n",
       "            <h3 style=\"margin-bottom: 0px;\">Scheduler</h3>\n",
       "            <p style=\"color: #9D9D9D; margin-bottom: 0px;\">Scheduler-b0dd7a27-48c8-44a5-950c-d270277cf594</p>\n",
       "            <table style=\"width: 100%; text-align: left;\">\n",
       "                <tr>\n",
       "                    <td style=\"text-align: left;\">\n",
       "                        <strong>Comm:</strong> tcp://127.0.0.1:62656\n",
       "                    </td>\n",
       "                    <td style=\"text-align: left;\">\n",
       "                        <strong>Workers:</strong> 1\n",
       "                    </td>\n",
       "                </tr>\n",
       "                <tr>\n",
       "                    <td style=\"text-align: left;\">\n",
       "                        <strong>Dashboard:</strong> <a href=\"http://127.0.0.1:8787/status\" target=\"_blank\">http://127.0.0.1:8787/status</a>\n",
       "                    </td>\n",
       "                    <td style=\"text-align: left;\">\n",
       "                        <strong>Total threads:</strong> 8\n",
       "                    </td>\n",
       "                </tr>\n",
       "                <tr>\n",
       "                    <td style=\"text-align: left;\">\n",
       "                        <strong>Started:</strong> Just now\n",
       "                    </td>\n",
       "                    <td style=\"text-align: left;\">\n",
       "                        <strong>Total memory:</strong> 16.00 GiB\n",
       "                    </td>\n",
       "                </tr>\n",
       "            </table>\n",
       "        </div>\n",
       "    </div>\n",
       "\n",
       "    <details style=\"margin-left: 48px;\">\n",
       "        <summary style=\"margin-bottom: 20px;\">\n",
       "            <h3 style=\"display: inline;\">Workers</h3>\n",
       "        </summary>\n",
       "\n",
       "        \n",
       "        <div style=\"margin-bottom: 20px;\">\n",
       "            <div style=\"width: 24px; height: 24px; background-color: #DBF5FF; border: 3px solid #4CC9FF; border-radius: 5px; position: absolute;\"> </div>\n",
       "            <div style=\"margin-left: 48px;\">\n",
       "            <details>\n",
       "                <summary>\n",
       "                    <h4 style=\"margin-bottom: 0px; display: inline;\">Worker: 0</h4>\n",
       "                </summary>\n",
       "                <table style=\"width: 100%; text-align: left;\">\n",
       "                    <tr>\n",
       "                        <td style=\"text-align: left;\">\n",
       "                            <strong>Comm: </strong> tcp://127.0.0.1:62661\n",
       "                        </td>\n",
       "                        <td style=\"text-align: left;\">\n",
       "                            <strong>Total threads: </strong> 8\n",
       "                        </td>\n",
       "                    </tr>\n",
       "                    <tr>\n",
       "                        <td style=\"text-align: left;\">\n",
       "                            <strong>Dashboard: </strong> <a href=\"http://127.0.0.1:62662/status\" target=\"_blank\">http://127.0.0.1:62662/status</a>\n",
       "                        </td>\n",
       "                        <td style=\"text-align: left;\">\n",
       "                            <strong>Memory: </strong> 16.00 GiB\n",
       "                        </td>\n",
       "                    </tr>\n",
       "                    <tr>\n",
       "                        <td style=\"text-align: left;\">\n",
       "                            <strong>Nanny: </strong> tcp://127.0.0.1:62659\n",
       "                        </td>\n",
       "                        <td style=\"text-align: left;\"></td>\n",
       "                    </tr>\n",
       "                    <tr>\n",
       "                        <td colspan=\"2\" style=\"text-align: left;\">\n",
       "                            <strong>Local directory: </strong> /var/folders/fb/ccf_crrx195fclngv32r4xcc0000gq/T/dask-scratch-space/worker-5iq_glx2\n",
       "                        </td>\n",
       "                    </tr>\n",
       "\n",
       "                    \n",
       "\n",
       "                    \n",
       "\n",
       "                </table>\n",
       "            </details>\n",
       "            </div>\n",
       "        </div>\n",
       "        \n",
       "\n",
       "    </details>\n",
       "</div>\n",
       "\n",
       "        </details>\n",
       "    </div>\n",
       "</div>\n",
       "            </details>\n",
       "        \n",
       "\n",
       "    </div>\n",
       "</div>"
      ],
      "text/plain": [
       "<Client: 'tcp://127.0.0.1:62656' processes=1 threads=8, memory=16.00 GiB>"
      ]
     },
     "execution_count": 3,
     "metadata": {},
     "output_type": "execute_result"
    }
   ],
   "source": [
    "# Start a dask cluster\n",
    "\n",
    "from distributed import Client, LocalCluster\n",
    "\n",
    "lc = LocalCluster(n_workers=1, threads_per_worker=None)\n",
    "client = Client(lc)\n",
    "client"
   ]
  },
  {
   "cell_type": "code",
   "execution_count": 4,
   "metadata": {},
   "outputs": [
    {
     "name": "stderr",
     "output_type": "stream",
     "text": [
      "9it [00:00, 17.65it/s]"
     ]
    },
    {
     "name": "stdout",
     "output_type": "stream",
     "text": [
      "Loaded 9 positions from /Users/malbert/software/ngff-stitcher/image-datasets/arthur_20220621_premovie_dish2-max.czi. Transform key is affine_metadata.\n"
     ]
    },
    {
     "name": "stderr",
     "output_type": "stream",
     "text": [
      "\n"
     ]
    }
   ],
   "source": [
    "# Load dataset from file\n",
    "\n",
    "from ngff_stitcher import io\n",
    "\n",
    "filename = Path('/Users/malbert/software/ngff-stitcher/image-datasets/arthur_20220621_premovie_dish2-max.czi')\n",
    "sims = io.read_mosaic_image_into_list_of_spatial_xarrays(filename, scene_index=0)\n",
    "\n",
    "msims = [msi_utils.get_store_decorator(\n",
    "    filename.with_suffix('.tile%03d.zarr' %isim), store_overwrite=False)(\n",
    "        msi_utils.get_msim_from_sim)(sim, [])\n",
    "    for isim, sim in tqdm(enumerate(sims))]\n",
    "\n",
    "# msims = [msi_utils.get_msim_from_sim(sim, scale_factors=[]) for sim in sims]\n",
    "print(f\"Loaded {len(msims)} positions from {filename}. Transform key is {io.METADATA_TRANSFORM_KEY}.\")\n",
    "\n",
    "# Test with generated dataset\n",
    "\n",
    "# sims = sample_data.generate_tiled_dataset(\n",
    "#     ndim=2,\n",
    "#     N_t=1,\n",
    "#     N_c=1,\n",
    "#     tile_size=1000,\n",
    "#     tiles_x=5,\n",
    "#     tiles_y=5,\n",
    "#     zoom=4,\n",
    "#     overlap=30,\n",
    "#     drift_scale=0,\n",
    "#     shift_scale=15,\n",
    "# )\n"
   ]
  },
  {
   "cell_type": "code",
   "execution_count": 5,
   "metadata": {},
   "outputs": [],
   "source": [
    "if VISUALIZE_USING_NAPARI:\n",
    "\n",
    "    from napari_stitcher import viewer_utils\n",
    "    import importlib\n",
    "    viewer_utils = importlib.reload(viewer_utils)\n",
    "    \n",
    "    import napari\n",
    "    viewer = napari.Viewer()\n",
    "    \n",
    "    layer_tuples = viewer_utils.create_image_layer_tuples_from_msims(\n",
    "        msims, n_colors=2, transform_key='affine_metadata')\n",
    "    viewer_utils.add_image_layer_tuples_to_viewer(viewer, layer_tuples)\n",
    "    viewer.reset_view()"
   ]
  },
  {
   "cell_type": "code",
   "execution_count": 6,
   "metadata": {},
   "outputs": [
    {
     "name": "stdout",
     "output_type": "stream",
     "text": [
      "Registering...\n"
     ]
    }
   ],
   "source": [
    "from ngff_stitcher import registration, fusion, mv_graph\n",
    "\n",
    "import importlib\n",
    "registration = importlib.reload(registration)\n",
    "mv_graph = importlib.reload(mv_graph)\n",
    "\n",
    "print('Registering...')\n",
    "with dask.diagnostics.ProgressBar():\n",
    "    params = registration.register(\n",
    "        msims[:], transform_key='affine_metadata', reg_channel_index=0)\n",
    "\n",
    "for msim, param in zip(msims, params):\n",
    "    msi_utils.set_affine_transform(msim, param, transform_key='affine_registered', base_transform_key='affine_metadata')"
   ]
  },
  {
   "cell_type": "code",
   "execution_count": 7,
   "metadata": {},
   "outputs": [
    {
     "name": "stdout",
     "output_type": "stream",
     "text": [
      "Fusing...\n"
     ]
    }
   ],
   "source": [
    "import importlib\n",
    "from ngff_stitcher import transformation\n",
    "fusion = importlib.reload(fusion)\n",
    "transformation = importlib.reload(transformation)\n",
    "\n",
    "print('Fusing...')\n",
    "# with dask.config.set(scheduler='single-threaded')\n",
    "with dask.diagnostics.ProgressBar():\n",
    "    fused = fusion.fuse(\n",
    "        [msi_utils.get_sim_from_msim(msim) for msim in msims],\n",
    "        transform_key='affine_registered')#.compute()\n",
    "\n",
    "# mfused = msi_utils.get_msim_from_sim(fused, scale_factors=[])"
   ]
  },
  {
   "cell_type": "code",
   "execution_count": null,
   "metadata": {},
   "outputs": [],
   "source": [
    "if VISUALIZE_USING_NAPARI:\n",
    "    \n",
    "    viewer = napari.Viewer(ndisplay=2)\n",
    "\n",
    "    # lds = viewer_utils.create_image_layer_tuples_from_msims(\n",
    "    #     msims, transform_key='affine_metadata', n_colors=2,\n",
    "    #     name_prefix='pre-registered view',\n",
    "    #     contrast_limits=(0, 1000),\n",
    "    #     )\n",
    "    # mlayers = viewer_utils.add_image_layer_tuples_to_viewer(viewer, lds, do_link_layers=True)\n",
    "\n",
    "    lds = viewer_utils.create_image_layer_tuples_from_msims(\n",
    "        msims, transform_key='affine_registered', n_colors=2,\n",
    "        name_prefix='registered view',\n",
    "        contrast_limits=(0, 1000),\n",
    "        )\n",
    "    mlayers = viewer_utils.add_image_layer_tuples_to_viewer(viewer, lds, do_link_layers=True)\n",
    "\n",
    "    lds = viewer_utils.create_image_layer_tuples_from_msim(\n",
    "        mfused,\n",
    "        transform_key='affine_registered',\n",
    "        name_prefix='fused',\n",
    "        contrast_limits=[0, 1000])\n",
    "\n",
    "    viewer_utils.add_image_layer_tuples_to_viewer(viewer, lds)\n",
    "\n"
   ]
  },
  {
   "cell_type": "code",
   "execution_count": null,
   "metadata": {},
   "outputs": [],
   "source": [
    "with dask.diagnostics.ProgressBar():\n",
    "    io.save_sim_as_tif('fused.tif', fused)"
   ]
  }
 ],
 "metadata": {
  "kernelspec": {
   "display_name": "Python 3 (ipykernel)",
   "language": "python",
   "name": "python3"
  },
  "language_info": {
   "codemirror_mode": {
    "name": "ipython",
    "version": 3
   },
   "file_extension": ".py",
   "mimetype": "text/x-python",
   "name": "python",
   "nbconvert_exporter": "python",
   "pygments_lexer": "ipython3",
   "version": "3.10.12"
  }
 },
 "nbformat": 4,
 "nbformat_minor": 4
}
