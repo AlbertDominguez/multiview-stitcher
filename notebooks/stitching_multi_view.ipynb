{
 "cells": [
  {
   "cell_type": "markdown",
   "metadata": {},
   "source": [
    "## Example workflow to register multi-view light sheet data\n",
    "\n",
    "Notes:\n",
    "- install napari-stitcher for visualization functionality\n",
    "- registration: so far only translation registration is performed\n",
    "- fusion: only vanilla linear blending currently supported\n",
    "- generally\n",
    "  - this is a first hacky workflow that will change in API and become simplified\n",
    "  - documentation will follow"
   ]
  },
  {
   "cell_type": "code",
   "execution_count": 12,
   "metadata": {},
   "outputs": [],
   "source": [
    "# imports\n",
    "\n",
    "import os\n",
    "import numpy as np\n",
    "from pathlib import Path\n",
    "from tqdm import tqdm\n",
    "import dask.diagnostics, tempfile\n",
    "\n",
    "from multiview_stitcher import msi_utils, spatial_image_utils\n",
    "\n",
    "%matplotlib notebook\n",
    "\n",
    "# the package napari-stitcher is required for visualization with napari\n",
    "VISUALIZE_USING_NAPARI = False\n",
    "\n",
    "if VISUALIZE_USING_NAPARI:\n",
    "    import napari\n",
    "    from napari_stitcher import viewer_utils"
   ]
  },
  {
   "cell_type": "code",
   "execution_count": 13,
   "metadata": {},
   "outputs": [
    {
     "name": "stderr",
     "output_type": "stream",
     "text": [
      "/Users/malbert/mambaforge/envs/napari-stitcher/lib/python3.10/site-packages/distributed/node.py:182: UserWarning: Port 8787 is already in use.\n",
      "Perhaps you already have a cluster running?\n",
      "Hosting the HTTP server on port 56828 instead\n",
      "  warnings.warn(\n"
     ]
    },
    {
     "data": {
      "text/html": [
       "<div>\n",
       "    <div style=\"width: 24px; height: 24px; background-color: #e1e1e1; border: 3px solid #9D9D9D; border-radius: 5px; position: absolute;\"> </div>\n",
       "    <div style=\"margin-left: 48px;\">\n",
       "        <h3 style=\"margin-bottom: 0px;\">Client</h3>\n",
       "        <p style=\"color: #9D9D9D; margin-bottom: 0px;\">Client-0d2364de-6dac-11ee-8b6d-0af085676057</p>\n",
       "        <table style=\"width: 100%; text-align: left;\">\n",
       "\n",
       "        <tr>\n",
       "        \n",
       "            <td style=\"text-align: left;\"><strong>Connection method:</strong> Cluster object</td>\n",
       "            <td style=\"text-align: left;\"><strong>Cluster type:</strong> distributed.LocalCluster</td>\n",
       "        \n",
       "        </tr>\n",
       "\n",
       "        \n",
       "            <tr>\n",
       "                <td style=\"text-align: left;\">\n",
       "                    <strong>Dashboard: </strong> <a href=\"http://127.0.0.1:56828/status\" target=\"_blank\">http://127.0.0.1:56828/status</a>\n",
       "                </td>\n",
       "                <td style=\"text-align: left;\"></td>\n",
       "            </tr>\n",
       "        \n",
       "\n",
       "        </table>\n",
       "\n",
       "        \n",
       "\n",
       "        \n",
       "            <details>\n",
       "            <summary style=\"margin-bottom: 20px;\"><h3 style=\"display: inline;\">Cluster Info</h3></summary>\n",
       "            <div class=\"jp-RenderedHTMLCommon jp-RenderedHTML jp-mod-trusted jp-OutputArea-output\">\n",
       "    <div style=\"width: 24px; height: 24px; background-color: #e1e1e1; border: 3px solid #9D9D9D; border-radius: 5px; position: absolute;\">\n",
       "    </div>\n",
       "    <div style=\"margin-left: 48px;\">\n",
       "        <h3 style=\"margin-bottom: 0px; margin-top: 0px;\">LocalCluster</h3>\n",
       "        <p style=\"color: #9D9D9D; margin-bottom: 0px;\">ee34f895</p>\n",
       "        <table style=\"width: 100%; text-align: left;\">\n",
       "            <tr>\n",
       "                <td style=\"text-align: left;\">\n",
       "                    <strong>Dashboard:</strong> <a href=\"http://127.0.0.1:56828/status\" target=\"_blank\">http://127.0.0.1:56828/status</a>\n",
       "                </td>\n",
       "                <td style=\"text-align: left;\">\n",
       "                    <strong>Workers:</strong> 1\n",
       "                </td>\n",
       "            </tr>\n",
       "            <tr>\n",
       "                <td style=\"text-align: left;\">\n",
       "                    <strong>Total threads:</strong> 8\n",
       "                </td>\n",
       "                <td style=\"text-align: left;\">\n",
       "                    <strong>Total memory:</strong> 16.00 GiB\n",
       "                </td>\n",
       "            </tr>\n",
       "            \n",
       "            <tr>\n",
       "    <td style=\"text-align: left;\"><strong>Status:</strong> running</td>\n",
       "    <td style=\"text-align: left;\"><strong>Using processes:</strong> True</td>\n",
       "</tr>\n",
       "\n",
       "            \n",
       "        </table>\n",
       "\n",
       "        <details>\n",
       "            <summary style=\"margin-bottom: 20px;\">\n",
       "                <h3 style=\"display: inline;\">Scheduler Info</h3>\n",
       "            </summary>\n",
       "\n",
       "            <div style=\"\">\n",
       "    <div>\n",
       "        <div style=\"width: 24px; height: 24px; background-color: #FFF7E5; border: 3px solid #FF6132; border-radius: 5px; position: absolute;\"> </div>\n",
       "        <div style=\"margin-left: 48px;\">\n",
       "            <h3 style=\"margin-bottom: 0px;\">Scheduler</h3>\n",
       "            <p style=\"color: #9D9D9D; margin-bottom: 0px;\">Scheduler-09965626-05ff-4d43-bd8a-41e6c16f9304</p>\n",
       "            <table style=\"width: 100%; text-align: left;\">\n",
       "                <tr>\n",
       "                    <td style=\"text-align: left;\">\n",
       "                        <strong>Comm:</strong> tcp://127.0.0.1:56829\n",
       "                    </td>\n",
       "                    <td style=\"text-align: left;\">\n",
       "                        <strong>Workers:</strong> 1\n",
       "                    </td>\n",
       "                </tr>\n",
       "                <tr>\n",
       "                    <td style=\"text-align: left;\">\n",
       "                        <strong>Dashboard:</strong> <a href=\"http://127.0.0.1:56828/status\" target=\"_blank\">http://127.0.0.1:56828/status</a>\n",
       "                    </td>\n",
       "                    <td style=\"text-align: left;\">\n",
       "                        <strong>Total threads:</strong> 8\n",
       "                    </td>\n",
       "                </tr>\n",
       "                <tr>\n",
       "                    <td style=\"text-align: left;\">\n",
       "                        <strong>Started:</strong> Just now\n",
       "                    </td>\n",
       "                    <td style=\"text-align: left;\">\n",
       "                        <strong>Total memory:</strong> 16.00 GiB\n",
       "                    </td>\n",
       "                </tr>\n",
       "            </table>\n",
       "        </div>\n",
       "    </div>\n",
       "\n",
       "    <details style=\"margin-left: 48px;\">\n",
       "        <summary style=\"margin-bottom: 20px;\">\n",
       "            <h3 style=\"display: inline;\">Workers</h3>\n",
       "        </summary>\n",
       "\n",
       "        \n",
       "        <div style=\"margin-bottom: 20px;\">\n",
       "            <div style=\"width: 24px; height: 24px; background-color: #DBF5FF; border: 3px solid #4CC9FF; border-radius: 5px; position: absolute;\"> </div>\n",
       "            <div style=\"margin-left: 48px;\">\n",
       "            <details>\n",
       "                <summary>\n",
       "                    <h4 style=\"margin-bottom: 0px; display: inline;\">Worker: 0</h4>\n",
       "                </summary>\n",
       "                <table style=\"width: 100%; text-align: left;\">\n",
       "                    <tr>\n",
       "                        <td style=\"text-align: left;\">\n",
       "                            <strong>Comm: </strong> tcp://127.0.0.1:56836\n",
       "                        </td>\n",
       "                        <td style=\"text-align: left;\">\n",
       "                            <strong>Total threads: </strong> 8\n",
       "                        </td>\n",
       "                    </tr>\n",
       "                    <tr>\n",
       "                        <td style=\"text-align: left;\">\n",
       "                            <strong>Dashboard: </strong> <a href=\"http://127.0.0.1:56837/status\" target=\"_blank\">http://127.0.0.1:56837/status</a>\n",
       "                        </td>\n",
       "                        <td style=\"text-align: left;\">\n",
       "                            <strong>Memory: </strong> 16.00 GiB\n",
       "                        </td>\n",
       "                    </tr>\n",
       "                    <tr>\n",
       "                        <td style=\"text-align: left;\">\n",
       "                            <strong>Nanny: </strong> tcp://127.0.0.1:56832\n",
       "                        </td>\n",
       "                        <td style=\"text-align: left;\"></td>\n",
       "                    </tr>\n",
       "                    <tr>\n",
       "                        <td colspan=\"2\" style=\"text-align: left;\">\n",
       "                            <strong>Local directory: </strong> /var/folders/fb/ccf_crrx195fclngv32r4xcc0000gq/T/dask-scratch-space/worker-9cds3v93\n",
       "                        </td>\n",
       "                    </tr>\n",
       "\n",
       "                    \n",
       "\n",
       "                    \n",
       "\n",
       "                </table>\n",
       "            </details>\n",
       "            </div>\n",
       "        </div>\n",
       "        \n",
       "\n",
       "    </details>\n",
       "</div>\n",
       "\n",
       "        </details>\n",
       "    </div>\n",
       "</div>\n",
       "            </details>\n",
       "        \n",
       "\n",
       "    </div>\n",
       "</div>"
      ],
      "text/plain": [
       "<Client: 'tcp://127.0.0.1:56829' processes=1 threads=8, memory=16.00 GiB>"
      ]
     },
     "execution_count": 13,
     "metadata": {},
     "output_type": "execute_result"
    }
   ],
   "source": [
    "# Start a dask cluster\n",
    "\n",
    "from distributed import Client, LocalCluster\n",
    "\n",
    "lc = LocalCluster(n_workers=1, threads_per_worker=None)\n",
    "client = Client(lc)\n",
    "client\n"
   ]
  },
  {
   "cell_type": "markdown",
   "metadata": {},
   "source": [
    "## Specify input data"
   ]
  },
  {
   "cell_type": "code",
   "execution_count": 14,
   "metadata": {},
   "outputs": [
    {
     "name": "stdout",
     "output_type": "stream",
     "text": [
      "Files:\n",
      "MGolden2022A-DS0031TP0001DR0001CH0001PL(ZS).tif\n",
      "MGolden2022A-DS0031TP0001DR0002CH0001PL(ZS).tif\n",
      "MGolden2022A-DS0031TP0001DR0003CH0001PL(ZS).tif\n",
      "MGolden2022A-DS0031TP0001DR0004CH0001PL(ZS).tif\n"
     ]
    }
   ],
   "source": [
    "base_dir = '../image-datasets/multi-view/old_mDSLM_classical_4_angles_10x_0.3NA_detection'\n",
    "filenames = [(os.path.join(base_dir, f)) for f in os.listdir(base_dir) if f.endswith('.tif')]\n",
    "\n",
    "# sort angles\n",
    "filenames = [Path(fn) for fn in sorted(filenames)]\n",
    "print('Files:')\n",
    "print('\\n'.join([fn.name for fn in filenames]))\n"
   ]
  },
  {
   "cell_type": "markdown",
   "metadata": {},
   "source": [
    "## Convert input data to OME-Zarr"
   ]
  },
  {
   "cell_type": "code",
   "execution_count": 15,
   "metadata": {},
   "outputs": [
    {
     "name": "stderr",
     "output_type": "stream",
     "text": [
      "100%|██████████| 4/4 [00:00<00:00,  4.60it/s]\n"
     ]
    }
   ],
   "source": [
    "from multiview_stitcher import io\n",
    "\n",
    "overwrite = False\n",
    "\n",
    "msims = []\n",
    "for filename in tqdm(filenames):\n",
    "    store_path = filename.with_suffix('.zarr')\n",
    "    if not os.path.exists(store_path) or overwrite:\n",
    "        sim = io.read_tiff_into_spatial_xarray(\n",
    "                        filename,\n",
    "                        scale={'z': 2.58, 'y': 0.645, 'x': 0.645})\n",
    "        msim = msi_utils.get_msim_from_sim(sim, scale_factors=None) # choose scale factors automatically\n",
    "        msim.to_zarr(store_path)\n",
    "    msim = msi_utils.multiscale_spatial_image_from_zarr(Path(store_path))\n",
    "    msims.append(msim)\n",
    "\n",
    "# alternative\n",
    "# msims = []\n",
    "# for filename in tqdm(filenames):\n",
    "#     msim = msi_utils.get_store_decorator(\n",
    "#         filename.with_suffix('.zarr'),\n",
    "#         store_overwrite=False)(\n",
    "#             msi_utils.get_msim_from_sim)(\n",
    "#                 io.read_tiff_into_spatial_xarray(\n",
    "#                     filename,\n",
    "#                     scale={'z': 2.58, 'y': 0.645, 'x': 0.645}\n",
    "#                 ))\n",
    "#     msims.append(msim)\n"
   ]
  },
  {
   "cell_type": "code",
   "execution_count": 16,
   "metadata": {},
   "outputs": [
    {
     "name": "stdout",
     "output_type": "stream",
     "text": [
      "DataTree('None', parent=None)\n",
      "│   Dimensions:  ()\n",
      "│   Data variables:\n",
      "│       *empty*\n",
      "│   Attributes:\n",
      "│       multiscaleSpatialImageVersion:  1\n",
      "│       multiscales:                    [{'@type': 'ngff:Image', 'axes': [{'name'...\n",
      "├── DataTree('scale0')\n",
      "│       Dimensions:          (t: 1, x_in: 4, x_out: 4, c: 1, z: 179, y: 1040, x: 1392)\n",
      "│       Coordinates:\n",
      "│         * c                (c) int64 0\n",
      "│         * t                (t) int64 0\n",
      "│         * x                (x) float64 0.0 0.645 1.29 1.935 ... 895.9 896.6 897.2\n",
      "│         * y                (y) float64 0.0 0.645 1.29 1.935 ... 668.9 669.5 670.2\n",
      "│         * z                (z) float64 0.0 2.58 5.16 7.74 ... 451.5 454.1 456.7 459.2\n",
      "│       Dimensions without coordinates: x_in, x_out\n",
      "│       Data variables:\n",
      "│           affine_metadata  (t, x_in, x_out) float64 1.0 0.0 0.0 0.0 ... 0.0 0.0 1.0\n",
      "│           image            (t, c, z, y, x) uint16 dask.array<chunksize=(1, 1, 179, 256, 256), meta=np.ndarray>\n",
      "├── DataTree('scale1')\n",
      "│       Dimensions:          (t: 1, x_in: 4, x_out: 4, c: 1, z: 179, y: 520, x: 696)\n",
      "│       Coordinates:\n",
      "│         * c                (c) int64 0\n",
      "│         * t                (t) int64 0\n",
      "│         * x                (x) float64 0.3225 1.613 2.902 4.193 ... 894.3 895.6 896.9\n",
      "│         * y                (y) float64 0.3225 1.613 2.902 4.193 ... 667.3 668.5 669.8\n",
      "│         * z                (z) float64 0.0 2.58 5.16 7.74 ... 451.5 454.1 456.7 459.2\n",
      "│       Dimensions without coordinates: x_in, x_out\n",
      "│       Data variables:\n",
      "│           affine_metadata  (t, x_in, x_out) float64 1.0 0.0 0.0 0.0 ... 0.0 0.0 1.0\n",
      "│           image            (t, c, z, y, x) uint16 dask.array<chunksize=(1, 1, 179, 256, 256), meta=np.ndarray>\n",
      "└── DataTree('scale2')\n",
      "        Dimensions:          (t: 1, x_in: 4, x_out: 4, c: 1, z: 179, y: 260, x: 348)\n",
      "        Coordinates:\n",
      "          * c                (c) int64 0\n",
      "          * t                (t) int64 0\n",
      "          * x                (x) float64 0.9675 3.548 6.128 8.707 ... 891.1 893.6 896.2\n",
      "          * y                (y) float64 0.9675 3.548 6.128 8.707 ... 664.0 666.6 669.2\n",
      "          * z                (z) float64 0.0 2.58 5.16 7.74 ... 451.5 454.1 456.7 459.2\n",
      "        Dimensions without coordinates: x_in, x_out\n",
      "        Data variables:\n",
      "            affine_metadata  (t, x_in, x_out) float64 1.0 0.0 0.0 0.0 ... 0.0 0.0 1.0\n",
      "            image            (t, c, z, y, x) uint16 dask.array<chunksize=(1, 1, 179, 256, 256), meta=np.ndarray>\n"
     ]
    }
   ],
   "source": [
    "print(msims[0])"
   ]
  },
  {
   "cell_type": "markdown",
   "metadata": {},
   "source": [
    "## Set estimate of initial transformations"
   ]
  },
  {
   "cell_type": "code",
   "execution_count": 17,
   "metadata": {},
   "outputs": [],
   "source": [
    "import transformations as tf\n",
    "\n",
    "for imsim, msim in enumerate(msims):\n",
    "\n",
    "    # 90 degree rotation around x axis\n",
    "    affine = tf.rotation_matrix(\n",
    "        -np.pi/2 * imsim,\n",
    "        point=spatial_image_utils.get_center_of_sim(msims[imsim]['scale0/image'], transform_key=None),\n",
    "        direction=[0,0,1],\n",
    "        )\n",
    "    \n",
    "    msi_utils.set_affine_transform(\n",
    "        msim,\n",
    "        affine[None], # one tp\n",
    "        transform_key='affine_manual',\n",
    "    )\n"
   ]
  },
  {
   "cell_type": "code",
   "execution_count": 23,
   "metadata": {},
   "outputs": [
    {
     "name": "stdout",
     "output_type": "stream",
     "text": [
      "<xarray.DataArray 'affine_manual' (t: 1, x_in: 4, x_out: 4)>\n",
      "array([[[1., 0., 0., 0.],\n",
      "        [0., 1., 0., 0.],\n",
      "        [0., 0., 1., 0.],\n",
      "        [0., 0., 0., 1.]]])\n",
      "Coordinates:\n",
      "  * t        (t) int64 0\n",
      "Dimensions without coordinates: x_in, x_out\n"
     ]
    }
   ],
   "source": [
    "print(msims[0]['scale0/affine_manual'])"
   ]
  },
  {
   "cell_type": "code",
   "execution_count": 22,
   "metadata": {},
   "outputs": [
    {
     "name": "stdout",
     "output_type": "stream",
     "text": [
      "<xarray.DataArray 'image' (t: 1, c: 1, z: 179, y: 1040, x: 1392)>\n",
      "dask.array<open_dataset-c17dbf5006081e3ae049471d3b3ca9e6image, shape=(1, 1, 179, 1040, 1392), dtype=uint16, chunksize=(1, 1, 179, 256, 256), chunktype=numpy.ndarray>\n",
      "Coordinates:\n",
      "  * c        (c) int64 0\n",
      "  * t        (t) int64 0\n",
      "  * x        (x) float64 0.0 0.645 1.29 1.935 2.58 ... 895.3 895.9 896.6 897.2\n",
      "  * y        (y) float64 0.0 0.645 1.29 1.935 2.58 ... 668.2 668.9 669.5 670.2\n",
      "  * z        (z) float64 0.0 2.58 5.16 7.74 10.32 ... 451.5 454.1 456.7 459.2\n"
     ]
    }
   ],
   "source": [
    "print(msims[0]['scale0/image'])"
   ]
  },
  {
   "cell_type": "markdown",
   "metadata": {},
   "source": [
    "### Visualize pre-registered views"
   ]
  },
  {
   "cell_type": "code",
   "execution_count": null,
   "metadata": {},
   "outputs": [],
   "source": [
    "if VISUALIZE_USING_NAPARI:\n",
    "\n",
    "    viewer = napari.Viewer(ndisplay=3)\n",
    "    lds = viewer_utils.create_image_layer_tuples_from_msims(\n",
    "        msims, transform_key='affine_manual', n_colors=4, contrast_limits=[0, 1000])\n",
    "    viewer_utils.add_image_layer_tuples_to_viewer(viewer, lds)\n",
    "    viewer.reset_view()\n",
    "    "
   ]
  },
  {
   "cell_type": "markdown",
   "metadata": {},
   "source": [
    "### Register views"
   ]
  },
  {
   "cell_type": "code",
   "execution_count": null,
   "metadata": {},
   "outputs": [],
   "source": [
    "# import skimage.registration\n",
    "from multiview_stitcher import registration\n",
    "\n",
    "with dask.diagnostics.ProgressBar():\n",
    "\n",
    "    params = registration.register(\n",
    "        # [msi_utils.get_sim_from_msim(msim) for msim in msims],\n",
    "        msims,\n",
    "        registration_binning={'z': 2, 'y': 8, 'x': 8},\n",
    "        reg_channel_index=0,\n",
    "        transform_key='affine_manual',\n",
    "    )\n",
    "    \n",
    "for msim, param in zip(msims, params):\n",
    "    msi_utils.set_affine_transform(msim, param, transform_key='affine_registered', base_transform_key='affine_manual')"
   ]
  },
  {
   "cell_type": "markdown",
   "metadata": {},
   "source": [
    "### Visualize registration"
   ]
  },
  {
   "cell_type": "code",
   "execution_count": null,
   "metadata": {},
   "outputs": [],
   "source": [
    "if VISUALIZE_USING_NAPARI:\n",
    "    \n",
    "    viewer = napari.Viewer(ndisplay=3)\n",
    "\n",
    "    lds = viewer_utils.create_image_layer_tuples_from_msims(\n",
    "        msims, transform_key='affine_manual', n_colors=4,\n",
    "        name_prefix='pre-registered view',\n",
    "        contrast_limits=[0, 1000],\n",
    "        )\n",
    "    mlayers = viewer_utils.add_image_layer_tuples_to_viewer(viewer, lds, do_link_layers=True)\n",
    "\n",
    "    lds = viewer_utils.create_image_layer_tuples_from_msims(\n",
    "        msims, transform_key='affine_registered', n_colors=4,\n",
    "        name_prefix='registered view',\n",
    "        contrast_limits=[0, 1000],\n",
    "        )\n",
    "    rlayers = viewer_utils.add_image_layer_tuples_to_viewer(viewer, lds, do_link_layers=True)"
   ]
  },
  {
   "cell_type": "markdown",
   "metadata": {},
   "source": [
    "### Fuse views (linear blending)"
   ]
  },
  {
   "cell_type": "code",
   "execution_count": null,
   "metadata": {},
   "outputs": [],
   "source": [
    "from multiview_stitcher import fusion\n",
    "import dask.array as da\n",
    "\n",
    "sims = [msi_utils.get_sim_from_msim(msim) for msim in msims]\n",
    "\n",
    "tmpdir = tempfile.TemporaryDirectory()\n",
    "\n",
    "import importlib\n",
    "fusion = importlib.reload(fusion)\n",
    "\n",
    "fused = fusion.fuse(\n",
    "    sims[:],\n",
    "    transform_key='affine_registered',\n",
    "    output_spacing={dim: 10 for dim in ['z', 'y', 'x']},\n",
    "    output_chunksize=128,\n",
    "    )\n",
    "\n",
    "print('Fusing views...')\n",
    "with dask.diagnostics.ProgressBar():\n",
    "\n",
    "    fused.data = da.to_zarr(\n",
    "        fused.data,\n",
    "        os.path.join(tmpdir.name, 'fused_sim.zarr'),\n",
    "        overwrite=True, return_stored=True, compute=True)\n",
    "\n",
    "print('Creating multiscale output OME-Zarr...')\n",
    "with dask.diagnostics.ProgressBar():\n",
    "\n",
    "    mfused = msi_utils.get_msim_from_sim(fused, scale_factors=None)\n",
    "\n",
    "    fused_path = os.path.join(tmpdir.name, 'fused.zarr')\n",
    "    mfused.to_zarr(fused_path)\n",
    "    \n",
    "mfused = msi_utils.multiscale_spatial_image_from_zarr(fused_path)"
   ]
  },
  {
   "cell_type": "markdown",
   "metadata": {},
   "source": [
    "### Visualize fusion in napari"
   ]
  },
  {
   "cell_type": "code",
   "execution_count": null,
   "metadata": {},
   "outputs": [],
   "source": [
    "if VISUALIZE_USING_NAPARI:\n",
    "\n",
    "    viewer = napari.Viewer(ndisplay=3)\n",
    "\n",
    "    lds = viewer_utils.create_image_layer_tuples_from_msims(\n",
    "        msims, transform_key='affine_registered', n_colors=4,\n",
    "        name_prefix='registered view',\n",
    "        contrast_limits=[0, 1000]\n",
    "        )\n",
    "\n",
    "    rlayers = viewer_utils.add_image_layer_tuples_to_viewer(\n",
    "        viewer, lds, do_link_layers=False)\n",
    "\n",
    "    lds = viewer_utils.create_image_layer_tuples_from_msim(\n",
    "        mfused,\n",
    "        transform_key='affine_registered',\n",
    "        name_prefix='fused',\n",
    "        contrast_limits=[0, 1000])\n",
    "\n",
    "    viewer_utils.add_image_layer_tuples_to_viewer(viewer, lds)"
   ]
  },
  {
   "cell_type": "code",
   "execution_count": null,
   "metadata": {},
   "outputs": [],
   "source": [
    "# stream presaved fused image to tif\n",
    "\n",
    "from multiview_stitcher import io\n",
    "\n",
    "with dask.diagnostics.ProgressBar():\n",
    "    io.save_sim_as_tif('fused.tif', msi_utils.get_sim_from_msim(mfused))"
   ]
  }
 ],
 "metadata": {
  "kernelspec": {
   "display_name": "Python 3 (ipykernel)",
   "language": "python",
   "name": "python3"
  },
  "language_info": {
   "codemirror_mode": {
    "name": "ipython",
    "version": 3
   },
   "file_extension": ".py",
   "mimetype": "text/x-python",
   "name": "python",
   "nbconvert_exporter": "python",
   "pygments_lexer": "ipython3",
   "version": "3.10.12"
  }
 },
 "nbformat": 4,
 "nbformat_minor": 4
}
