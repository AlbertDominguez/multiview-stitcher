{
 "cells": [
  {
   "cell_type": "markdown",
   "metadata": {},
   "source": [
    "## Example workflow to register multi-view light sheet data\n",
    "\n",
    "Notes:\n",
    "- install napari-stitcher for visualization functionality\n",
    "- registration: so far only translation registration is performed\n",
    "- fusion: only vanilla linear blending currently supported\n",
    "- generally\n",
    "  - this is a first hacky workflow that will change in API and become simplified\n",
    "  - documentation will follow"
   ]
  },
  {
   "cell_type": "code",
   "execution_count": 1,
   "metadata": {},
   "outputs": [],
   "source": [
    "# imports\n",
    "\n",
    "import os\n",
    "import numpy as np\n",
    "from pathlib import Path\n",
    "from tqdm import tqdm\n",
    "import dask.diagnostics, tempfile\n",
    "\n",
    "from multiview_stitcher import msi_utils, spatial_image_utils\n",
    "\n",
    "%matplotlib notebook\n",
    "\n",
    "# the package napari-stitcher is required for visualization with napari\n",
    "VISUALIZE_USING_NAPARI = False\n",
    "\n",
    "if VISUALIZE_USING_NAPARI:\n",
    "    import napari\n",
    "    from napari_stitcher import viewer_utils"
   ]
  },
  {
   "cell_type": "code",
   "execution_count": 2,
   "metadata": {},
   "outputs": [
    {
     "data": {
      "text/html": [
       "<div>\n",
       "    <div style=\"width: 24px; height: 24px; background-color: #e1e1e1; border: 3px solid #9D9D9D; border-radius: 5px; position: absolute;\"> </div>\n",
       "    <div style=\"margin-left: 48px;\">\n",
       "        <h3 style=\"margin-bottom: 0px;\">Client</h3>\n",
       "        <p style=\"color: #9D9D9D; margin-bottom: 0px;\">Client-a8e75a5a-5c00-11ee-be0e-0af085676057</p>\n",
       "        <table style=\"width: 100%; text-align: left;\">\n",
       "\n",
       "        <tr>\n",
       "        \n",
       "            <td style=\"text-align: left;\"><strong>Connection method:</strong> Cluster object</td>\n",
       "            <td style=\"text-align: left;\"><strong>Cluster type:</strong> distributed.LocalCluster</td>\n",
       "        \n",
       "        </tr>\n",
       "\n",
       "        \n",
       "            <tr>\n",
       "                <td style=\"text-align: left;\">\n",
       "                    <strong>Dashboard: </strong> <a href=\"http://127.0.0.1:8787/status\" target=\"_blank\">http://127.0.0.1:8787/status</a>\n",
       "                </td>\n",
       "                <td style=\"text-align: left;\"></td>\n",
       "            </tr>\n",
       "        \n",
       "\n",
       "        </table>\n",
       "\n",
       "        \n",
       "\n",
       "        \n",
       "            <details>\n",
       "            <summary style=\"margin-bottom: 20px;\"><h3 style=\"display: inline;\">Cluster Info</h3></summary>\n",
       "            <div class=\"jp-RenderedHTMLCommon jp-RenderedHTML jp-mod-trusted jp-OutputArea-output\">\n",
       "    <div style=\"width: 24px; height: 24px; background-color: #e1e1e1; border: 3px solid #9D9D9D; border-radius: 5px; position: absolute;\">\n",
       "    </div>\n",
       "    <div style=\"margin-left: 48px;\">\n",
       "        <h3 style=\"margin-bottom: 0px; margin-top: 0px;\">LocalCluster</h3>\n",
       "        <p style=\"color: #9D9D9D; margin-bottom: 0px;\">2cedae0a</p>\n",
       "        <table style=\"width: 100%; text-align: left;\">\n",
       "            <tr>\n",
       "                <td style=\"text-align: left;\">\n",
       "                    <strong>Dashboard:</strong> <a href=\"http://127.0.0.1:8787/status\" target=\"_blank\">http://127.0.0.1:8787/status</a>\n",
       "                </td>\n",
       "                <td style=\"text-align: left;\">\n",
       "                    <strong>Workers:</strong> 1\n",
       "                </td>\n",
       "            </tr>\n",
       "            <tr>\n",
       "                <td style=\"text-align: left;\">\n",
       "                    <strong>Total threads:</strong> 8\n",
       "                </td>\n",
       "                <td style=\"text-align: left;\">\n",
       "                    <strong>Total memory:</strong> 16.00 GiB\n",
       "                </td>\n",
       "            </tr>\n",
       "            \n",
       "            <tr>\n",
       "    <td style=\"text-align: left;\"><strong>Status:</strong> running</td>\n",
       "    <td style=\"text-align: left;\"><strong>Using processes:</strong> True</td>\n",
       "</tr>\n",
       "\n",
       "            \n",
       "        </table>\n",
       "\n",
       "        <details>\n",
       "            <summary style=\"margin-bottom: 20px;\">\n",
       "                <h3 style=\"display: inline;\">Scheduler Info</h3>\n",
       "            </summary>\n",
       "\n",
       "            <div style=\"\">\n",
       "    <div>\n",
       "        <div style=\"width: 24px; height: 24px; background-color: #FFF7E5; border: 3px solid #FF6132; border-radius: 5px; position: absolute;\"> </div>\n",
       "        <div style=\"margin-left: 48px;\">\n",
       "            <h3 style=\"margin-bottom: 0px;\">Scheduler</h3>\n",
       "            <p style=\"color: #9D9D9D; margin-bottom: 0px;\">Scheduler-37fb85c3-6e1b-4c23-84a4-42a1224bfea8</p>\n",
       "            <table style=\"width: 100%; text-align: left;\">\n",
       "                <tr>\n",
       "                    <td style=\"text-align: left;\">\n",
       "                        <strong>Comm:</strong> tcp://127.0.0.1:55487\n",
       "                    </td>\n",
       "                    <td style=\"text-align: left;\">\n",
       "                        <strong>Workers:</strong> 1\n",
       "                    </td>\n",
       "                </tr>\n",
       "                <tr>\n",
       "                    <td style=\"text-align: left;\">\n",
       "                        <strong>Dashboard:</strong> <a href=\"http://127.0.0.1:8787/status\" target=\"_blank\">http://127.0.0.1:8787/status</a>\n",
       "                    </td>\n",
       "                    <td style=\"text-align: left;\">\n",
       "                        <strong>Total threads:</strong> 8\n",
       "                    </td>\n",
       "                </tr>\n",
       "                <tr>\n",
       "                    <td style=\"text-align: left;\">\n",
       "                        <strong>Started:</strong> Just now\n",
       "                    </td>\n",
       "                    <td style=\"text-align: left;\">\n",
       "                        <strong>Total memory:</strong> 16.00 GiB\n",
       "                    </td>\n",
       "                </tr>\n",
       "            </table>\n",
       "        </div>\n",
       "    </div>\n",
       "\n",
       "    <details style=\"margin-left: 48px;\">\n",
       "        <summary style=\"margin-bottom: 20px;\">\n",
       "            <h3 style=\"display: inline;\">Workers</h3>\n",
       "        </summary>\n",
       "\n",
       "        \n",
       "        <div style=\"margin-bottom: 20px;\">\n",
       "            <div style=\"width: 24px; height: 24px; background-color: #DBF5FF; border: 3px solid #4CC9FF; border-radius: 5px; position: absolute;\"> </div>\n",
       "            <div style=\"margin-left: 48px;\">\n",
       "            <details>\n",
       "                <summary>\n",
       "                    <h4 style=\"margin-bottom: 0px; display: inline;\">Worker: 0</h4>\n",
       "                </summary>\n",
       "                <table style=\"width: 100%; text-align: left;\">\n",
       "                    <tr>\n",
       "                        <td style=\"text-align: left;\">\n",
       "                            <strong>Comm: </strong> tcp://127.0.0.1:55494\n",
       "                        </td>\n",
       "                        <td style=\"text-align: left;\">\n",
       "                            <strong>Total threads: </strong> 8\n",
       "                        </td>\n",
       "                    </tr>\n",
       "                    <tr>\n",
       "                        <td style=\"text-align: left;\">\n",
       "                            <strong>Dashboard: </strong> <a href=\"http://127.0.0.1:55495/status\" target=\"_blank\">http://127.0.0.1:55495/status</a>\n",
       "                        </td>\n",
       "                        <td style=\"text-align: left;\">\n",
       "                            <strong>Memory: </strong> 16.00 GiB\n",
       "                        </td>\n",
       "                    </tr>\n",
       "                    <tr>\n",
       "                        <td style=\"text-align: left;\">\n",
       "                            <strong>Nanny: </strong> tcp://127.0.0.1:55490\n",
       "                        </td>\n",
       "                        <td style=\"text-align: left;\"></td>\n",
       "                    </tr>\n",
       "                    <tr>\n",
       "                        <td colspan=\"2\" style=\"text-align: left;\">\n",
       "                            <strong>Local directory: </strong> /var/folders/fb/ccf_crrx195fclngv32r4xcc0000gq/T/dask-scratch-space/worker-s6ap358v\n",
       "                        </td>\n",
       "                    </tr>\n",
       "\n",
       "                    \n",
       "\n",
       "                    \n",
       "\n",
       "                </table>\n",
       "            </details>\n",
       "            </div>\n",
       "        </div>\n",
       "        \n",
       "\n",
       "    </details>\n",
       "</div>\n",
       "\n",
       "        </details>\n",
       "    </div>\n",
       "</div>\n",
       "            </details>\n",
       "        \n",
       "\n",
       "    </div>\n",
       "</div>"
      ],
      "text/plain": [
       "<Client: 'tcp://127.0.0.1:55487' processes=1 threads=8, memory=16.00 GiB>"
      ]
     },
     "execution_count": 2,
     "metadata": {},
     "output_type": "execute_result"
    }
   ],
   "source": [
    "# Start a dask cluster\n",
    "\n",
    "from distributed import Client, LocalCluster\n",
    "\n",
    "lc = LocalCluster(n_workers=1, threads_per_worker=None)\n",
    "client = Client(lc)\n",
    "client\n"
   ]
  },
  {
   "cell_type": "markdown",
   "metadata": {},
   "source": [
    "## Specify input data"
   ]
  },
  {
   "cell_type": "code",
   "execution_count": 3,
   "metadata": {},
   "outputs": [
    {
     "name": "stdout",
     "output_type": "stream",
     "text": [
      "Files:\n",
      "MGolden2022A-DS0031TP0001DR0001CH0001PL(ZS).tif\n",
      "MGolden2022A-DS0031TP0001DR0002CH0001PL(ZS).tif\n",
      "MGolden2022A-DS0031TP0001DR0003CH0001PL(ZS).tif\n",
      "MGolden2022A-DS0031TP0001DR0004CH0001PL(ZS).tif\n"
     ]
    }
   ],
   "source": [
    "base_dir = '../image-datasets/multi-view/old_mDSLM_classical_4_angles_10x_0.3NA_detection'\n",
    "filenames = [(os.path.join(base_dir, f)) for f in os.listdir(base_dir) if f.endswith('.tif')]\n",
    "\n",
    "# sort angles\n",
    "filenames = [Path(fn) for fn in sorted(filenames)]\n",
    "print('Files:')\n",
    "print('\\n'.join([fn.name for fn in filenames]))\n"
   ]
  },
  {
   "cell_type": "markdown",
   "metadata": {},
   "source": [
    "## Convert input data to OME-Zarr"
   ]
  },
  {
   "cell_type": "code",
   "execution_count": 4,
   "metadata": {},
   "outputs": [
    {
     "name": "stderr",
     "output_type": "stream",
     "text": [
      "2023-09-26 02:07:20,819 [Geometry3D WARNING] 'Renderer' is deprecated, using 'Visualizer' instead.\n",
      "100%|██████████| 4/4 [00:00<00:00,  7.93it/s]\n"
     ]
    }
   ],
   "source": [
    "from multiview_stitcher import io\n",
    "\n",
    "overwrite = False\n",
    "\n",
    "msims = []\n",
    "for filename in tqdm(filenames):\n",
    "    store_path = filename.with_suffix('.zarr')\n",
    "    if not os.path.exists(store_path) or overwrite:\n",
    "        sim = io.read_tiff_into_spatial_xarray(\n",
    "                        filename,\n",
    "                        scale={'z': 2.58, 'y': 0.645, 'x': 0.645})\n",
    "        msim = msi_utils.get_msim_from_sim(sim, scale_factors=None) # choose scale factors automatically\n",
    "        msim.to_zarr(store_path)\n",
    "    msim = msi_utils.multiscale_spatial_image_from_zarr(Path(store_path))\n",
    "    msims.append(msim)\n",
    "\n",
    "# alternative\n",
    "# msims = []\n",
    "# for filename in tqdm(filenames):\n",
    "#     msim = msi_utils.get_store_decorator(\n",
    "#         filename.with_suffix('.zarr'),\n",
    "#         store_overwrite=False)(\n",
    "#             msi_utils.get_msim_from_sim)(\n",
    "#                 io.read_tiff_into_spatial_xarray(\n",
    "#                     filename,\n",
    "#                     scale={'z': 2.58, 'y': 0.645, 'x': 0.645}\n",
    "#                 ))\n",
    "#     msims.append(msim)\n"
   ]
  },
  {
   "cell_type": "markdown",
   "metadata": {},
   "source": [
    "## Set estimate of initial transformations"
   ]
  },
  {
   "cell_type": "code",
   "execution_count": 5,
   "metadata": {},
   "outputs": [],
   "source": [
    "import transformations as tf\n",
    "\n",
    "for imsim, msim in enumerate(msims):\n",
    "\n",
    "    # 90 degree rotation around x axis\n",
    "    affine = tf.rotation_matrix(\n",
    "        -np.pi/2 * imsim,\n",
    "        point=spatial_image_utils.get_center_of_sim(msims[imsim]['scale0/image'], transform_key=None),\n",
    "        direction=[0,0,1],\n",
    "        )\n",
    "    \n",
    "    msi_utils.set_affine_transform(\n",
    "        msim,\n",
    "        affine[None], # one tp\n",
    "        transform_key='affine_manual',\n",
    "    )\n"
   ]
  },
  {
   "cell_type": "markdown",
   "metadata": {},
   "source": [
    "### Visualize pre-registered views"
   ]
  },
  {
   "cell_type": "code",
   "execution_count": 6,
   "metadata": {},
   "outputs": [],
   "source": [
    "if VISUALIZE_USING_NAPARI:\n",
    "\n",
    "    viewer = napari.Viewer(ndisplay=3)\n",
    "    lds = viewer_utils.create_image_layer_tuples_from_msims(\n",
    "        msims, transform_key='affine_manual', n_colors=4, contrast_limits=[0, 1000])\n",
    "    viewer_utils.add_image_layer_tuples_to_viewer(viewer, lds)\n",
    "    viewer.reset_view()\n",
    "    "
   ]
  },
  {
   "cell_type": "markdown",
   "metadata": {},
   "source": [
    "### Register views"
   ]
  },
  {
   "cell_type": "code",
   "execution_count": 7,
   "metadata": {},
   "outputs": [],
   "source": [
    "# import skimage.registration\n",
    "from multiview_stitcher import registration\n",
    "\n",
    "with dask.diagnostics.ProgressBar():\n",
    "\n",
    "    params = registration.register(\n",
    "        # [msi_utils.get_sim_from_msim(msim) for msim in msims],\n",
    "        msims,\n",
    "        registration_binning={'z': 2, 'y': 8, 'x': 8},\n",
    "        reg_channel_index=0,\n",
    "        transform_key='affine_manual',\n",
    "    )\n",
    "    \n",
    "for msim, param in zip(msims, params):\n",
    "    msi_utils.set_affine_transform(msim, param, transform_key='affine_registered', base_transform_key='affine_manual')"
   ]
  },
  {
   "cell_type": "markdown",
   "metadata": {},
   "source": [
    "### Visualize registration"
   ]
  },
  {
   "cell_type": "code",
   "execution_count": 8,
   "metadata": {},
   "outputs": [],
   "source": [
    "if VISUALIZE_USING_NAPARI:\n",
    "    \n",
    "    viewer = napari.Viewer(ndisplay=3)\n",
    "\n",
    "    lds = viewer_utils.create_image_layer_tuples_from_msims(\n",
    "        msims, transform_key='affine_manual', n_colors=4,\n",
    "        name_prefix='pre-registered view',\n",
    "        contrast_limits=[0, 1000],\n",
    "        )\n",
    "    mlayers = viewer_utils.add_image_layer_tuples_to_viewer(viewer, lds, do_link_layers=True)\n",
    "\n",
    "    lds = viewer_utils.create_image_layer_tuples_from_msims(\n",
    "        msims, transform_key='affine_registered', n_colors=4,\n",
    "        name_prefix='registered view',\n",
    "        contrast_limits=[0, 1000],\n",
    "        )\n",
    "    rlayers = viewer_utils.add_image_layer_tuples_to_viewer(viewer, lds, do_link_layers=True)"
   ]
  },
  {
   "cell_type": "markdown",
   "metadata": {},
   "source": [
    "### Fuse views (linear blending)"
   ]
  },
  {
   "cell_type": "code",
   "execution_count": 19,
   "metadata": {},
   "outputs": [
    {
     "name": "stdout",
     "output_type": "stream",
     "text": [
      "Fusing views...\n",
      "Creating multiscale output OME-Zarr...\n"
     ]
    }
   ],
   "source": [
    "from multiview_stitcher import fusion\n",
    "import dask.array as da\n",
    "\n",
    "sims = [msi_utils.get_sim_from_msim(msim) for msim in msims]\n",
    "\n",
    "tmpdir = tempfile.TemporaryDirectory()\n",
    "\n",
    "import importlib\n",
    "fusion = importlib.reload(fusion)\n",
    "\n",
    "fused = fusion.fuse(\n",
    "    sims[:],\n",
    "    transform_key='affine_registered',\n",
    "    output_spacing={dim: 10 for dim in ['z', 'y', 'x']},\n",
    "    output_chunksize=128,\n",
    "    )\n",
    "\n",
    "print('Fusing views...')\n",
    "with dask.diagnostics.ProgressBar():\n",
    "\n",
    "    fused.data = da.to_zarr(\n",
    "        fused.data,\n",
    "        os.path.join(tmpdir.name, 'fused_sim2.zarr'),\n",
    "        overwrite=True, return_stored=True, compute=True)\n",
    "\n",
    "print('Creating multiscale output OME-Zarr...')\n",
    "with dask.diagnostics.ProgressBar():\n",
    "\n",
    "    mfused = msi_utils.get_msim_from_sim(fused, scale_factors=None)\n",
    "\n",
    "    fused_path = os.path.join(tmpdir.name, 'fused.zarr')\n",
    "    mfused.to_zarr(fused_path)\n",
    "    \n",
    "mfused = msi_utils.multiscale_spatial_image_from_zarr(fused_path)"
   ]
  },
  {
   "cell_type": "markdown",
   "metadata": {},
   "source": [
    "### Visualize fusion in napari"
   ]
  },
  {
   "cell_type": "code",
   "execution_count": 16,
   "metadata": {},
   "outputs": [],
   "source": [
    "if VISUALIZE_USING_NAPARI:\n",
    "\n",
    "    viewer = napari.Viewer(ndisplay=3)\n",
    "\n",
    "    lds = viewer_utils.create_image_layer_tuples_from_msims(\n",
    "        msims, transform_key='affine_registered', n_colors=4,\n",
    "        name_prefix='registered view',\n",
    "        contrast_limits=[0, 1000]\n",
    "        )\n",
    "\n",
    "    rlayers = viewer_utils.add_image_layer_tuples_to_viewer(\n",
    "        viewer, lds, do_link_layers=False)\n",
    "\n",
    "    lds = viewer_utils.create_image_layer_tuples_from_msim(\n",
    "        mfused,\n",
    "        transform_key='affine_registered',\n",
    "        name_prefix='fused',\n",
    "        contrast_limits=[0, 1000])\n",
    "\n",
    "    viewer_utils.add_image_layer_tuples_to_viewer(viewer, lds)"
   ]
  },
  {
   "cell_type": "code",
   "execution_count": 20,
   "metadata": {},
   "outputs": [
    {
     "name": "stdout",
     "output_type": "stream",
     "text": [
      "[                                        ] | 0% Completed | 116.87 ms"
     ]
    },
    {
     "name": "stderr",
     "output_type": "stream",
     "text": [
      "/Users/malbert/mambaforge/envs/napari-stitcher/lib/python3.10/site-packages/tifffile/tifffile.py:3571: UserWarning: <tifffile.TiffWriter 'fused.tif'> truncating ImageJ file\n",
      "  warnings.warn(\n",
      "/Users/malbert/mambaforge/envs/napari-stitcher/lib/python3.10/site-packages/dask/base.py:1402: UserWarning: Running on a single-machine scheduler when a distributed client is active might lead to unexpected results.\n",
      "  warnings.warn(\n"
     ]
    },
    {
     "name": "stdout",
     "output_type": "stream",
     "text": [
      "[########################################] | 100% Completed | 419.57 s\n"
     ]
    }
   ],
   "source": [
    "# stream presaved fused image to tif\n",
    "\n",
    "from multiview_stitcher import io\n",
    "\n",
    "with dask.diagnostics.ProgressBar():\n",
    "    io.save_sim_as_tif('fused.tif', msi_utils.get_sim_from_msim(mfused))"
   ]
  }
 ],
 "metadata": {
  "kernelspec": {
   "display_name": "Python 3 (ipykernel)",
   "language": "python",
   "name": "python3"
  },
  "language_info": {
   "codemirror_mode": {
    "name": "ipython",
    "version": 3
   },
   "file_extension": ".py",
   "mimetype": "text/x-python",
   "name": "python",
   "nbconvert_exporter": "python",
   "pygments_lexer": "ipython3",
   "version": "3.10.12"
  }
 },
 "nbformat": 4,
 "nbformat_minor": 4
}
