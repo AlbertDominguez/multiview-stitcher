{
 "cells": [
  {
   "cell_type": "markdown",
   "metadata": {},
   "source": [
    "## Example 3D stitching workflow\n",
    "\n",
    "This notebook uses the 3D example dataset provided by BigStitcher: https://imagej.net/plugins/bigstitcher/#example-datasets.\n",
    "\n",
    "This notebook\n",
    "- downloads the example dataset (6 tiles, 3 channels)\n",
    "- converts its tif files into [OME-Zarr files](https://www.nature.com/articles/s41592-021-01326-w), which include translation metadata placing the input tiles onto a regular grid (serving as an approximate starting point for the registration)\n",
    "- (optionally) performs channel alignment / registration\n",
    "- registers the tiles using one of the input channels\n",
    "- displays the obtained transformation parameters\n",
    "- fuses the tiles into a single image (average fusion with blending between tiles)\n",
    "- saves the fused image in OME-Zarr and tif formats\n",
    "\n",
    "Notes:\n",
    "- set `VISUALIZE_USING_NAPARI = True` in the first code cell to use `napari-stitcher` for visualization (needs to be installed separately)"
   ]
  },
  {
   "cell_type": "code",
   "execution_count": 1,
   "metadata": {},
   "outputs": [
    {
     "name": "stderr",
     "output_type": "stream",
     "text": [
      "2024-02-12 14:27:23,743 [Geometry3D WARNING] 'Renderer' is deprecated, using 'Visualizer' instead.\n"
     ]
    }
   ],
   "source": [
    "# imports\n",
    "\n",
    "import os\n",
    "import zipfile\n",
    "import xarray as xr\n",
    "from pathlib import Path\n",
    "\n",
    "import dask.diagnostics\n",
    "import ngff_zarr\n",
    "import numpy as np\n",
    "import tifffile\n",
    "from multiview_stitcher import (\n",
    "    fusion,\n",
    "    io,\n",
    "    msi_utils,\n",
    "    ngff_utils,\n",
    "    param_utils,\n",
    "    registration,\n",
    "    spatial_image_utils,\n",
    ")\n",
    "from tqdm import tqdm\n",
    "\n",
    "# napari-stitcher is required for visualization with napari\n",
    "VISUALIZE_USING_NAPARI = False\n",
    "\n",
    "if VISUALIZE_USING_NAPARI:\n",
    "    import napari\n",
    "    from napari_stitcher import viewer_utils"
   ]
  },
  {
   "cell_type": "markdown",
   "metadata": {},
   "source": [
    "## Download example data"
   ]
  },
  {
   "cell_type": "code",
   "execution_count": 2,
   "metadata": {},
   "outputs": [
    {
     "data": {
      "text/plain": [
       "[PosixPath('Grid_3d/Grid1/C1-73.tif'),\n",
       " PosixPath('Grid_3d/Grid1/C1-74.tif'),\n",
       " PosixPath('Grid_3d/Grid1/C1-75.tif'),\n",
       " PosixPath('Grid_3d/Grid1/C1-76.tif'),\n",
       " PosixPath('Grid_3d/Grid1/C1-77.tif'),\n",
       " PosixPath('Grid_3d/Grid1/C1-78.tif'),\n",
       " PosixPath('Grid_3d/Grid1/C2-73.tif'),\n",
       " PosixPath('Grid_3d/Grid1/C2-74.tif'),\n",
       " PosixPath('Grid_3d/Grid1/C2-75.tif'),\n",
       " PosixPath('Grid_3d/Grid1/C2-76.tif'),\n",
       " PosixPath('Grid_3d/Grid1/C2-77.tif'),\n",
       " PosixPath('Grid_3d/Grid1/C2-78.tif'),\n",
       " PosixPath('Grid_3d/Grid1/C3-73.tif'),\n",
       " PosixPath('Grid_3d/Grid1/C3-74.tif'),\n",
       " PosixPath('Grid_3d/Grid1/C3-75.tif'),\n",
       " PosixPath('Grid_3d/Grid1/C3-76.tif'),\n",
       " PosixPath('Grid_3d/Grid1/C3-77.tif'),\n",
       " PosixPath('Grid_3d/Grid1/C3-78.tif')]"
      ]
     },
     "execution_count": 2,
     "metadata": {},
     "output_type": "execute_result"
    }
   ],
   "source": [
    "url = \"https://preibischlab.mdc-berlin.de/BigStitcher/Grid_3d.zip\"\n",
    "\n",
    "base_dir = './%s' %os.path.basename(url)[:-4]\n",
    "os.makedirs(base_dir, exist_ok=True)\n",
    "\n",
    "zip_filepath = os.path.join(base_dir, os.path.basename(url))\n",
    "\n",
    "# download\n",
    "if not os.path.exists(zip_filepath):\n",
    "    from urllib.request import urlretrieve\n",
    "    urlretrieve(url, zip_filepath)\n",
    "\n",
    "# unzip\n",
    "with zipfile.ZipFile(os.path.join(base_dir, os.path.basename(url)), 'r') as zip_ref:\n",
    "    zip_ref.extractall(base_dir)\n",
    "\n",
    "# get the list of files\n",
    "sorted(Path(base_dir).glob('*/*.tif'))"
   ]
  },
  {
   "cell_type": "markdown",
   "metadata": {},
   "source": [
    "## Specify input files"
   ]
  },
  {
   "cell_type": "code",
   "execution_count": 3,
   "metadata": {},
   "outputs": [
    {
     "name": "stdout",
     "output_type": "stream",
     "text": [
      "Example filename:\n",
      " ./Grid_3d/Grid1/C1-73.tif\n"
     ]
    }
   ],
   "source": [
    "# indicate the tiles and channels to process\n",
    "tiles = np.arange(73, 79)\n",
    "channels = np.arange(1, 4)\n",
    "\n",
    "def get_filename_from_tile_and_channel(tile, channel):\n",
    "    \"\"\"\n",
    "    This convenience function returns the filename given the tile and channel.\n",
    "    \"\"\"\n",
    "    return f'./Grid_3d/Grid1/C{channel:01d}-{tile:02d}.tif'\n",
    "\n",
    "print('Example filename:\\n', get_filename_from_tile_and_channel(tiles[0], channels[0]))"
   ]
  },
  {
   "cell_type": "markdown",
   "metadata": {},
   "source": [
    "## Read input data and convert to OME-Zarr\n",
    "\n",
    "This includes (pre-)arranging the tiles on a grid.\n",
    "Make sure to indicate `scale`, `tile_grid_position` and `overlap`."
   ]
  },
  {
   "cell_type": "code",
   "execution_count": 4,
   "metadata": {},
   "outputs": [
    {
     "name": "stderr",
     "output_type": "stream",
     "text": [
      "6it [00:12,  2.07s/it]\n"
     ]
    }
   ],
   "source": [
    "overwrite = True\n",
    "\n",
    "msims = []\n",
    "for tile_index, tile in tqdm(enumerate(tiles[:])):\n",
    "\n",
    "    # where to save the zarr(s)\n",
    "    zarr_path = os.path.join(os.path.dirname(get_filename_from_tile_and_channel(tile, channels[0])),\n",
    "                             f'tile_{tile:02d}')\n",
    "\n",
    "    # if zarr doesn't exist yet, create it\n",
    "    if not os.path.exists(zarr_path) or overwrite:\n",
    "\n",
    "        # indicate pixel spacing\n",
    "        scale = {'z': 5, 'y': 1, 'x': 1}\n",
    "\n",
    "        # indicate grid position for current tile index\n",
    "        # (as a function of the tile index)\n",
    "        tile_grid_position = {\n",
    "            'z': 0,\n",
    "            'y': tile_index // 2,\n",
    "            'x': tile_index % 2,\n",
    "        }\n",
    "\n",
    "        # indicate approximate overlap between tiles\n",
    "        overlap = 0.1 # relative to image shape\n",
    "\n",
    "        # read tile image\n",
    "        im_data = np.array([\n",
    "            tifffile.imread(get_filename_from_tile_and_channel(tile, ch))\n",
    "            for ch in channels])\n",
    "\n",
    "        shape = {dim: im_data.shape[-idim] for idim, dim in enumerate(scale.keys())}\n",
    "        translation = {dim: tile_grid_position[dim] * (1 - overlap) * shape[dim] * scale[dim]\n",
    "                    for dim in scale}\n",
    "\n",
    "        ngff_im = ngff_zarr.NgffImage(\n",
    "            im_data,\n",
    "            dims=('c', 'z', 'y', 'x'),\n",
    "            scale=scale,\n",
    "            translation=translation,\n",
    "            )\n",
    "\n",
    "        ngff_multiscales = ngff_zarr.to_multiscales(ngff_im)\n",
    "\n",
    "        ngff_zarr.to_ngff_zarr(zarr_path, ngff_multiscales)\n",
    "\n",
    "    # open tile image from zarr on disk\n",
    "    msim = ngff_utils.ngff_multiscales_to_msim(\n",
    "        ngff_zarr.from_ngff_zarr(zarr_path),\n",
    "        transform_key=io.METADATA_TRANSFORM_KEY)\n",
    "\n",
    "    msims.append(msim)"
   ]
  },
  {
   "cell_type": "markdown",
   "metadata": {},
   "source": [
    "In case of starting from OME-Zarr data (which includes positional metadata), skip the previous cell and read input data as follows:"
   ]
  },
  {
   "cell_type": "code",
   "execution_count": 5,
   "metadata": {},
   "outputs": [],
   "source": [
    "# # Input file names\n",
    "# zarr_tile_paths = ['tile1.zarr', 'tile2.zarr']\n",
    "\n",
    "# msims = [\n",
    "#     ngff_utils.ngff_multiscales_to_msim(\n",
    "#         ngff_zarr.from_ngff_zarr(zarr_tile_path),\n",
    "#         transform_key=io.METADATA_TRANSFORM_KEY\n",
    "#         )\n",
    "#         for zarr_tile_path in zarr_tile_paths]"
   ]
  },
  {
   "cell_type": "markdown",
   "metadata": {},
   "source": [
    "### Visualize pre-registered views"
   ]
  },
  {
   "cell_type": "code",
   "execution_count": 6,
   "metadata": {},
   "outputs": [
    {
     "data": {
      "image/png": "[encoded data removed]",
      "text/plain": [
       "<Figure size 640x480 with 1 Axes>"
      ]
     },
     "metadata": {},
     "output_type": "display_data"
    }
   ],
   "source": [
    "# visualize tile positions/configuration\n",
    "\n",
    "# uncomment the following line for 3D interactivity with\n",
    "# the plot (requires ipympl to be installed)\n",
    "\n",
    "# % matplotlib widget\n",
    "\n",
    "from multiview_stitcher import vis_utils\n",
    "\n",
    "fig, ax = vis_utils.plot_positions(\n",
    "    msims,\n",
    "    use_positional_colors=True, # set to False for faster execution in case of more than 20 tiles/views\n",
    "    transform_key='affine_metadata'\n",
    "    )"
   ]
  },
  {
   "cell_type": "code",
   "execution_count": 7,
   "metadata": {},
   "outputs": [],
   "source": [
    "# using napari\n",
    "\n",
    "if VISUALIZE_USING_NAPARI:\n",
    "\n",
    "    ch_coord = 0 # None if all should be shown\n",
    "\n",
    "    viewer = napari.Viewer(ndisplay=msi_utils.get_ndim(msims[0]))\n",
    "    lds = viewer_utils.create_image_layer_tuples_from_msims(\n",
    "        msims, ch_coord=ch_coord, transform_key='affine_metadata', n_colors=2, contrast_limits=[0, 500])\n",
    "    viewer_utils.add_image_layer_tuples_to_viewer(viewer, lds)\n",
    "    viewer.reset_view()\n"
   ]
  },
  {
   "cell_type": "markdown",
   "metadata": {},
   "source": [
    "### Align channels (optional)\n",
    "\n",
    "Perform channel alignment prior to view/tile registration to account for shifts between channels in the input data.\n",
    "The example data does not exhibit significant channel shifts, but this might be useful for other datasets."
   ]
  },
  {
   "cell_type": "code",
   "execution_count": 8,
   "metadata": {},
   "outputs": [],
   "source": [
    "# Turn channel alignment on or off\n",
    "perform_channel_alignment = False\n",
    "\n",
    "# Channel alignment is performed using a single tile.\n",
    "# Choose here which tile (index) to use.\n",
    "channel_alignment_tile_index = 0\n",
    "\n",
    "curr_transform_key = 'affine_metadata'\n",
    "if perform_channel_alignment:\n",
    "    curr_transform_key = 'affine_metadata_ch_reg'\n",
    "\n",
    "    channels = msims[channel_alignment_tile_index]['scale0/image'].coords['c']\n",
    "\n",
    "    # select chosen tiles for registration\n",
    "    msims_ch_reg = [msi_utils.multiscale_sel_coords(msims[5], {'c': ch})\n",
    "                    for ch in channels]\n",
    "\n",
    "    with dask.diagnostics.ProgressBar():\n",
    "        params_c = registration.register(\n",
    "            msims_ch_reg,\n",
    "            registration_binning={'z': 2, 'y': 4, 'x': 4},\n",
    "            reg_channel_index=0,\n",
    "            transform_key='affine_metadata',\n",
    "            pre_registration_pruning_method=None,\n",
    "        )\n",
    "\n",
    "    # assign channel coordinates to obtained parameters\n",
    "    params_c = xr.concat(params_c, dim='c').assign_coords({'c': channels})\n",
    "\n",
    "    # set obtained parameters for all tiles\n",
    "    for msim in msims:\n",
    "        msi_utils.set_affine_transform(\n",
    "            msim, params_c, transform_key=curr_transform_key, base_transform_key='affine_metadata')\n"
   ]
  },
  {
   "cell_type": "markdown",
   "metadata": {},
   "source": [
    "### Register views"
   ]
  },
  {
   "cell_type": "code",
   "execution_count": 9,
   "metadata": {},
   "outputs": [
    {
     "name": "stdout",
     "output_type": "stream",
     "text": [
      "[########################################] | 100% Completed | 6.62 sms\n"
     ]
    }
   ],
   "source": [
    "with dask.diagnostics.ProgressBar():\n",
    "\n",
    "    params = registration.register(\n",
    "        msims,\n",
    "        registration_binning={'z': 1, 'y': 3, 'x': 3},\n",
    "        reg_channel_index=0,\n",
    "        transform_key=curr_transform_key,\n",
    "        new_transform_key='affine_registered',\n",
    "    )"
   ]
  },
  {
   "cell_type": "code",
   "execution_count": 10,
   "metadata": {},
   "outputs": [
    {
     "name": "stdout",
     "output_type": "stream",
     "text": [
      "tile index 0\n",
      " [[ 1.   0.   0.   0. ]\n",
      " [ 0.   1.   0.   5.5]\n",
      " [ 0.   0.   1.  -2. ]\n",
      " [ 0.   0.   0.   1. ]]\n",
      "tile index 1\n",
      " [[ 1.   0.   0.   0. ]\n",
      " [ 0.   1.   0.   5.5]\n",
      " [ 0.   0.   1.  -1. ]\n",
      " [ 0.   0.   0.   1. ]]\n",
      "tile index 2\n",
      " [[ 1.   0.   0.   0. ]\n",
      " [ 0.   1.   0.  -1.5]\n",
      " [ 0.   0.   1.  -1. ]\n",
      " [ 0.   0.   0.   1. ]]\n",
      "tile index 3\n",
      " [[1. 0. 0. 0.]\n",
      " [0. 1. 0. 0.]\n",
      " [0. 0. 1. 0.]\n",
      " [0. 0. 0. 1.]]\n",
      "tile index 4\n",
      " [[ 1.   0.   0.   0. ]\n",
      " [ 0.   1.   0.  -4.5]\n",
      " [ 0.   0.   1.  -1. ]\n",
      " [ 0.   0.   0.   1. ]]\n",
      "tile index 5\n",
      " [[ 1.   0.   0.   0. ]\n",
      " [ 0.   1.   0.  -4.5]\n",
      " [ 0.   0.   1.   0. ]\n",
      " [ 0.   0.   0.   1. ]]\n"
     ]
    }
   ],
   "source": [
    "# print the obtained parameters\n",
    "# how to interpret these?\n",
    "#   - parameters are expressed in homogeneous matrices of dimensions (n+1, n+1)\n",
    "#   - the first n rows and columns correspond to the linear part of the transformation\n",
    "#   - the first three elements of the last column correspond to the translation in (z, y, x)\n",
    "#   - the parameters map the coordinates of the input files (considering their scale and translation)\n",
    "#     into a world coordinate system in which the tiles are registered\n",
    "\n",
    "for imsim, msim in enumerate(msims):\n",
    "    affine = np.array(msi_utils.get_transform_from_msim(msim, transform_key='affine_registered')[0])\n",
    "    print(f'tile index {imsim}\\n', affine)"
   ]
  },
  {
   "cell_type": "markdown",
   "metadata": {},
   "source": [
    "### Visualize registration"
   ]
  },
  {
   "cell_type": "code",
   "execution_count": 11,
   "metadata": {},
   "outputs": [],
   "source": [
    "if VISUALIZE_USING_NAPARI:\n",
    "\n",
    "    viewer = napari.Viewer(ndisplay=msi_utils.get_ndim(msims[0]))\n",
    "\n",
    "    ch_coord = 0 # None if all should be shown\n",
    "\n",
    "    lds = viewer_utils.create_image_layer_tuples_from_msims(\n",
    "        msims, ch_coord=ch_coord, transform_key='affine_registered', n_colors=2,\n",
    "        name_prefix='registered view',\n",
    "        contrast_limits=[0, 500],\n",
    "        )\n",
    "    rlayers = viewer_utils.add_image_layer_tuples_to_viewer(viewer, lds, do_link_layers=True)\n",
    "\n",
    "    viewer.reset_view()"
   ]
  },
  {
   "cell_type": "markdown",
   "metadata": {},
   "source": [
    "### Fuse views (linear blending)\n",
    "#### Save output into OME-Zarr"
   ]
  },
  {
   "cell_type": "code",
   "execution_count": 12,
   "metadata": {},
   "outputs": [
    {
     "name": "stdout",
     "output_type": "stream",
     "text": [
      "Fusing views and saving output to ./Grid_3d/fused.zarr...\n",
      "[########################################] | 100% Completed | 84.04 s\n"
     ]
    }
   ],
   "source": [
    "output_dir = base_dir\n",
    "output_filename = os.path.join(output_dir, 'fused.zarr')\n",
    "\n",
    "fused = fusion.fuse(\n",
    "    [msi_utils.get_sim_from_msim(msim) for msim in msims],\n",
    "    transform_key='affine_registered',\n",
    "    output_chunksize=256,\n",
    "    )\n",
    "\n",
    "print(f'Fusing views and saving output to {output_filename}...')\n",
    "with dask.diagnostics.ProgressBar():\n",
    "\n",
    "    fused_ngff = ngff_utils.sim_to_ngff_image(\n",
    "        fused,\n",
    "        transform_key='affine_registered')\n",
    "\n",
    "    fused_ngff_multiscales = ngff_zarr.to_multiscales(fused_ngff, scale_factors=[])\n",
    "\n",
    "    ngff_zarr.to_ngff_zarr(\n",
    "        output_filename,\n",
    "        fused_ngff_multiscales,\n",
    "        )\n",
    "\n",
    "mfused = ngff_utils.ngff_multiscales_to_msim(\n",
    "    ngff_zarr.from_ngff_zarr(output_filename),\n",
    "    transform_key='affine_registered')\n"
   ]
  },
  {
   "cell_type": "markdown",
   "metadata": {},
   "source": [
    "### Visualize fusion in napari"
   ]
  },
  {
   "cell_type": "code",
   "execution_count": 13,
   "metadata": {},
   "outputs": [],
   "source": [
    "if VISUALIZE_USING_NAPARI:\n",
    "\n",
    "    viewer = napari.Viewer(ndisplay=msi_utils.get_ndim(msims[0]))\n",
    "\n",
    "    ch_coord = None\n",
    "\n",
    "    lds = viewer_utils.create_image_layer_tuples_from_msims(\n",
    "        [mfused],\n",
    "        ch_coord=ch_coord,\n",
    "        transform_key='affine_registered',\n",
    "        name_prefix='fused',\n",
    "        contrast_limits=[0, 500])\n",
    "\n",
    "    viewer_utils.add_image_layer_tuples_to_viewer(viewer, lds)"
   ]
  },
  {
   "cell_type": "code",
   "execution_count": 14,
   "metadata": {},
   "outputs": [
    {
     "name": "stdout",
     "output_type": "stream",
     "text": [
      "Streaming into ./Grid_3d/fused.tif...\n"
     ]
    },
    {
     "name": "stderr",
     "output_type": "stream",
     "text": [
      "  0%|          | 0/3 [00:00<?, ?it/s]"
     ]
    },
    {
     "name": "stdout",
     "output_type": "stream",
     "text": [
      "[########################################] | 100% Completed | 1.51 sms\n"
     ]
    },
    {
     "name": "stderr",
     "output_type": "stream",
     "text": [
      " 33%|███▎      | 1/3 [00:02<00:04,  2.05s/it]"
     ]
    },
    {
     "name": "stdout",
     "output_type": "stream",
     "text": [
      "[########################################] | 100% Completed | 1.22 sms\n"
     ]
    },
    {
     "name": "stderr",
     "output_type": "stream",
     "text": [
      " 67%|██████▋   | 2/3 [00:03<00:01,  1.88s/it]"
     ]
    },
    {
     "name": "stdout",
     "output_type": "stream",
     "text": [
      "[########################################] | 100% Completed | 1.11 sms\n"
     ]
    },
    {
     "name": "stderr",
     "output_type": "stream",
     "text": [
      "100%|██████████| 3/3 [00:05<00:00,  1.82s/it]\n"
     ]
    }
   ],
   "source": [
    "# stream fused image into tif\n",
    "# i.e. convert OME-Zarr output into tif\n",
    "\n",
    "output_filename = os.path.join(output_dir, 'fused.tif')\n",
    "\n",
    "print(f'Streaming into {output_filename}...')\n",
    "with dask.diagnostics.ProgressBar():\n",
    "    io.save_sim_as_tif(\n",
    "        output_filename,\n",
    "        msi_utils.get_sim_from_msim(mfused))"
   ]
  },
  {
   "cell_type": "code",
   "execution_count": null,
   "metadata": {},
   "outputs": [],
   "source": []
  }
 ],
 "metadata": {
  "kernelspec": {
   "display_name": "Python 3 (ipykernel)",
   "language": "python",
   "name": "python3"
  },
  "language_info": {
   "codemirror_mode": {
    "name": "ipython",
    "version": 3
   },
   "file_extension": ".py",
   "mimetype": "text/x-python",
   "name": "python",
   "nbconvert_exporter": "python",
   "pygments_lexer": "ipython3",
   "version": "3.10.13"
  }
 },
 "nbformat": 4,
 "nbformat_minor": 4
}
