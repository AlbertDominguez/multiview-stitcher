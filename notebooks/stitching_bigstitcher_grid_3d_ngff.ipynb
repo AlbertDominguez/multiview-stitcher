{
 "cells": [
  {
   "cell_type": "markdown",
   "metadata": {},
   "source": [
    "## Example 3D stitching workflow\n",
    "\n",
    "This notebook uses the 3D example dataset provided by BigStitcher: https://imagej.net/plugins/bigstitcher/#example-datasets.\n",
    "\n",
    "This notebook\n",
    "1) downloads the example dataset (6 tiles, 3 channels)\n",
    "2) converts its tif files into OME-Zarr files, which include translation metadata placing the input tiles onto a regular grid (serving as an approximate starting point for the registration)\n",
    "3) registers the tiles using on of the input channels\n",
    "4) displays the obtained transformation parameters\n",
    "5) fuses the tiles into a single image\n",
    "6) saves the fused image in OME-Zarr and tif formats\n",
    "\n",
    "Notes:\n",
    "- `napari-stitcher` is required for visualization functionality"
   ]
  },
  {
   "cell_type": "code",
   "execution_count": null,
   "metadata": {},
   "outputs": [],
   "source": [
    "# imports\n",
    "\n",
    "import os\n",
    "import zipfile\n",
    "from pathlib import Path\n",
    "\n",
    "import dask.diagnostics\n",
    "import ngff_zarr\n",
    "import numpy as np\n",
    "import tifffile\n",
    "from multiview_stitcher import (\n",
    "    fusion,\n",
    "    io,\n",
    "    msi_utils,\n",
    "    ngff_utils,\n",
    "    param_utils,\n",
    "    registration,\n",
    "    spatial_image_utils,\n",
    ")\n",
    "from tqdm import tqdm\n",
    "\n",
    "# napari-stitcher is required for visualization with napari\n",
    "VISUALIZE_USING_NAPARI = False\n",
    "\n",
    "if VISUALIZE_USING_NAPARI:\n",
    "    import napari\n",
    "    from napari_stitcher import viewer_utils"
   ]
  },
  {
   "cell_type": "markdown",
   "metadata": {},
   "source": [
    "## Download example data"
   ]
  },
  {
   "cell_type": "code",
   "execution_count": null,
   "metadata": {},
   "outputs": [],
   "source": [
    "url = \"https://preibischlab.mdc-berlin.de/BigStitcher/Grid_3d.zip\"\n",
    "\n",
    "base_dir = './%s' %os.path.basename(url)[:-4]\n",
    "os.makedirs(base_dir, exist_ok=True)\n",
    "\n",
    "zip_filepath = os.path.join(base_dir, os.path.basename(url))\n",
    "\n",
    "# download\n",
    "if not os.path.exists(zip_filepath):\n",
    "    from urllib.request import urlretrieve\n",
    "    urlretrieve(url, zip_filepath)\n",
    "\n",
    "# unzip\n",
    "with zipfile.ZipFile(os.path.join(base_dir, os.path.basename(url)), 'r') as zip_ref:\n",
    "    zip_ref.extractall(base_dir)\n",
    "\n",
    "# get the list of files\n",
    "sorted(Path(base_dir).glob('*/*.tif'))"
   ]
  },
  {
   "cell_type": "markdown",
   "metadata": {},
   "source": [
    "## Specify input files"
   ]
  },
  {
   "cell_type": "code",
   "execution_count": null,
   "metadata": {},
   "outputs": [],
   "source": [
    "# indicate the tiles and channels to process\n",
    "tiles = np.arange(73, 79)\n",
    "channels = np.arange(1, 4)\n",
    "\n",
    "def get_filename_from_tile_and_channel(tile, channel):\n",
    "    \"\"\"\n",
    "    This convenience function returns the filename given the tile and channel.\n",
    "    \"\"\"\n",
    "    return f'./Grid_3d/Grid1/C{channel:01d}-{tile:02d}.tif'\n",
    "\n",
    "print('Example filename:\\n', get_filename_from_tile_and_channel(tiles[0], channels[0]))"
   ]
  },
  {
   "cell_type": "markdown",
   "metadata": {},
   "source": [
    "## Read input data and convert to OME-Zarr\n",
    "\n",
    "- this includes (pre-)arranging the tiles on a grid"
   ]
  },
  {
   "cell_type": "code",
   "execution_count": null,
   "metadata": {},
   "outputs": [],
   "source": [
    "overwrite = True\n",
    "\n",
    "msims = []\n",
    "for tile_index, tile in tqdm(enumerate(tiles[:])):\n",
    "\n",
    "    # where to save the zarr(s)\n",
    "    zarr_path = os.path.join(os.path.dirname(get_filename_from_tile_and_channel(tile, channels[0])),\n",
    "                             f'tile_{tile:02d}')\n",
    "\n",
    "    # if zarr doesn't exist yet, create it\n",
    "    if not os.path.exists(zarr_path) or overwrite:\n",
    "\n",
    "        # indicate pixel spacing\n",
    "        scale = {'z': 5, 'y': 1, 'x': 1}\n",
    "\n",
    "        # indicate grid position for current tile index\n",
    "        # (as a function of the tile index)\n",
    "        tile_grid_positions = {\n",
    "            'z': 0,\n",
    "            'y': tile_index // 2,\n",
    "            'x': tile_index % 2,\n",
    "        }\n",
    "\n",
    "        # indicate approximate overlap between tiles\n",
    "        overlap = 0.1\n",
    "\n",
    "        # read tile image\n",
    "        im_data = np.array([\n",
    "            tifffile.imread(get_filename_from_tile_and_channel(tile, ch))\n",
    "            for ch in channels])\n",
    "\n",
    "        shape = {dim: im_data.shape[-idim] for idim, dim in enumerate(scale.keys())}\n",
    "        translation = {dim: tile_grid_positions[dim] * (1 - overlap) * shape[dim] * scale[dim]\n",
    "                    for dim in scale}\n",
    "\n",
    "        ngff_im = ngff_zarr.NgffImage(\n",
    "            im_data,\n",
    "            dims=('c', 'z', 'y', 'x'),\n",
    "            scale=scale,\n",
    "            translation=translation,\n",
    "            )\n",
    "\n",
    "        ngff_multiscales = ngff_zarr.to_multiscales(ngff_im)\n",
    "\n",
    "        ngff_zarr.to_ngff_zarr(zarr_path, ngff_multiscales)\n",
    "\n",
    "    # open tile image from zarr on disk\n",
    "    msim = ngff_utils.ngff_multiscales_to_msim(\n",
    "        ngff_zarr.from_ngff_zarr(zarr_path),\n",
    "        transform_key=io.METADATA_TRANSFORM_KEY)\n",
    "\n",
    "    msims.append(msim)"
   ]
  },
  {
   "cell_type": "markdown",
   "metadata": {},
   "source": [
    "In case of starting from OME-Zarr data, skip the previous cell and read input data as follows:"
   ]
  },
  {
   "cell_type": "code",
   "execution_count": null,
   "metadata": {},
   "outputs": [],
   "source": [
    "# # Input file names\n",
    "# zarr_tile_paths = ['tile1.zarr', 'tile2.zarr']\n",
    "\n",
    "# msims = [\n",
    "#     ngff_utils.ngff_multiscales_to_msim(\n",
    "#         ngff_zarr.from_ngff_zarr(zarr_tile_path),\n",
    "#         transform_key=io.METADATA_TRANSFORM_KEY\n",
    "#         )\n",
    "#         for zarr_tile_path in zarr_tile_paths]"
   ]
  },
  {
   "cell_type": "markdown",
   "metadata": {},
   "source": [
    "### Visualize pre-registered views"
   ]
  },
  {
   "cell_type": "code",
   "execution_count": null,
   "metadata": {},
   "outputs": [],
   "source": [
    "if VISUALIZE_USING_NAPARI:\n",
    "\n",
    "    ch_coord = 0 # None if all should be shown\n",
    "\n",
    "    viewer = napari.Viewer(ndisplay=msi_utils.get_ndim(msims[0]))\n",
    "    lds = viewer_utils.create_image_layer_tuples_from_msims(\n",
    "        msims, ch_coord=ch_coord, transform_key='affine_metadata', n_colors=2, contrast_limits=[0, 500])\n",
    "    viewer_utils.add_image_layer_tuples_to_viewer(viewer, lds)\n",
    "    viewer.reset_view()\n"
   ]
  },
  {
   "cell_type": "markdown",
   "metadata": {},
   "source": [
    "### Register views"
   ]
  },
  {
   "cell_type": "code",
   "execution_count": null,
   "metadata": {},
   "outputs": [],
   "source": [
    "# import skimage.registration\n",
    "\n",
    "with dask.diagnostics.ProgressBar():\n",
    "\n",
    "    params = registration.register(\n",
    "        msims,\n",
    "        # registration_binning={'z': 2, 'y': 8, 'x': 8},\n",
    "        reg_channel_index=0,\n",
    "        transform_key='affine_metadata',\n",
    "    )\n",
    "\n",
    "for msim, param in zip(msims, params):\n",
    "    msi_utils.set_affine_transform(msim, param, transform_key='affine_registered', base_transform_key='affine_metadata')"
   ]
  },
  {
   "cell_type": "code",
   "execution_count": null,
   "metadata": {},
   "outputs": [],
   "source": [
    "# print the obtained parameters\n",
    "# how to interpret these?\n",
    "#   - parameters are expressed in homogeneous matrices of dimensions (n+1, n+1)\n",
    "#   - the first n rows and columns correspond to the linear part of the transformation\n",
    "#   - the first three elements of the last column correspond to the translation in (z, y, x)\n",
    "#   - the parameters map the coordinates of the input files (considering their scale and translation)\n",
    "#     into a world coordinate system in which the tiles are registered\n",
    "\n",
    "for imsim, msim in enumerate(msims):\n",
    "    affine = np.array(msi_utils.get_transform_from_msim(msim, transform_key='affine_registered')[0])\n",
    "    print(f'tile index {imsim}\\n', affine)"
   ]
  },
  {
   "cell_type": "markdown",
   "metadata": {},
   "source": [
    "### Visualize registration"
   ]
  },
  {
   "cell_type": "code",
   "execution_count": null,
   "metadata": {},
   "outputs": [],
   "source": [
    "if VISUALIZE_USING_NAPARI:\n",
    "\n",
    "    viewer = napari.Viewer(ndisplay=msi_utils.get_ndim(msims[0]))\n",
    "\n",
    "    ch_coord = 0 # None if all should be shown\n",
    "\n",
    "    lds = viewer_utils.create_image_layer_tuples_from_msims(\n",
    "        msims, ch_coord=ch_coord, transform_key='affine_registered', n_colors=2,\n",
    "        name_prefix='registered view',\n",
    "        contrast_limits=[0, 500],\n",
    "        )\n",
    "    rlayers = viewer_utils.add_image_layer_tuples_to_viewer(viewer, lds, do_link_layers=True)\n",
    "\n",
    "    viewer.reset_view()"
   ]
  },
  {
   "cell_type": "markdown",
   "metadata": {},
   "source": [
    "### Fuse views (linear blending)\n",
    "#### Save output into OME-Zarr"
   ]
  },
  {
   "cell_type": "code",
   "execution_count": null,
   "metadata": {},
   "outputs": [],
   "source": [
    "sims = [msi_utils.get_sim_from_msim(msim) for msim in msims]\n",
    "\n",
    "output_dir = base_dir\n",
    "output_filename = os.path.join(output_dir, 'fused.zarr')\n",
    "\n",
    "fused = fusion.fuse(\n",
    "    sims[:],\n",
    "    transform_key='affine_registered',\n",
    "    output_chunksize=256,\n",
    "    )\n",
    "\n",
    "print(f'Fusing views and saving output to {output_filename}...')\n",
    "with dask.diagnostics.ProgressBar():\n",
    "\n",
    "    fused_ngff = ngff_utils.sim_to_ngff_image(\n",
    "        fused,\n",
    "        transform_key='affine_registered')\n",
    "\n",
    "    fused_ngff_multiscales = ngff_zarr.to_multiscales(fused_ngff, scale_factors=[])\n",
    "\n",
    "    ngff_zarr.to_ngff_zarr(\n",
    "        output_filename,\n",
    "        fused_ngff_multiscales,\n",
    "        )\n",
    "\n",
    "mfused = ngff_utils.ngff_multiscales_to_msim(\n",
    "    ngff_zarr.from_ngff_zarr(output_filename),\n",
    "    transform_key='affine_registered')\n"
   ]
  },
  {
   "cell_type": "markdown",
   "metadata": {},
   "source": [
    "### Visualize fusion in napari"
   ]
  },
  {
   "cell_type": "code",
   "execution_count": null,
   "metadata": {},
   "outputs": [],
   "source": [
    "if VISUALIZE_USING_NAPARI:\n",
    "\n",
    "    viewer = napari.Viewer(ndisplay=msi_utils.get_ndim(msims[0]))\n",
    "\n",
    "    ch_coord = None\n",
    "\n",
    "    lds = viewer_utils.create_image_layer_tuples_from_msims(\n",
    "        [mfused],\n",
    "        ch_coord=ch_coord,\n",
    "        transform_key='affine_registered',\n",
    "        name_prefix='fused',\n",
    "        contrast_limits=[0, 500])\n",
    "\n",
    "    viewer_utils.add_image_layer_tuples_to_viewer(viewer, lds)"
   ]
  },
  {
   "cell_type": "code",
   "execution_count": null,
   "metadata": {},
   "outputs": [],
   "source": [
    "# stream fused image into tif\n",
    "# i.e. convert OME-Zarr output into tif\n",
    "\n",
    "output_filename = os.path.join(output_dir, 'fused.tif')\n",
    "\n",
    "print(f'Streaming into {output_filename}...')\n",
    "\n",
    "with dask.diagnostics.ProgressBar():\n",
    "    io.save_sim_as_tif(\n",
    "        output_filename,\n",
    "        msi_utils.get_sim_from_msim(mfused))"
   ]
  }
 ],
 "metadata": {
  "kernelspec": {
   "display_name": "Python 3 (ipykernel)",
   "language": "python",
   "name": "python3"
  },
  "language_info": {
   "codemirror_mode": {
    "name": "ipython",
    "version": 3
   },
   "file_extension": ".py",
   "mimetype": "text/x-python",
   "name": "python",
   "nbconvert_exporter": "python",
   "pygments_lexer": "ipython3",
   "version": "3.10.13"
  }
 },
 "nbformat": 4,
 "nbformat_minor": 4
}
