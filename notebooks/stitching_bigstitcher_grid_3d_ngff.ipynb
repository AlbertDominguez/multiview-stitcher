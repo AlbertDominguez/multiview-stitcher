{
 "cells": [
  {
   "cell_type": "markdown",
   "metadata": {},
   "source": [
    "# Example 3D stitching workflow\n",
    "\n",
    "This notebook demonstrates a workflow for stitching (potentially large) 3D data available as tif stacks.\n",
    "\n",
    "#### 1) Download the example dataset\n",
    "\n",
    "This notebook uses the 3D example dataset (6 tiles, 3 channels) provided by BigStitcher: https://imagej.net/plugins/bigstitcher/#example-datasets.\n",
    "\n",
    "#### 2) Convert input tif files into [OME-Zarr files](https://www.nature.com/articles/s41592-021-01326-w)\n",
    "\n",
    "This is useful in two ways:\n",
    "\n",
    "1) Image data cannot (easily) be read from tif files in a lazy and chunked manner. However, this is necessary when working with large images that shouldn't be loaded all at once. OME-Zarr files can be read chunkwise and will allow the stitching workflow to keep a low memory footprint and optimize its parallelism.\n",
    "\n",
    "2) OME-Zarr standardises metadata. In particular, this includes (positional) scale and translation metadata for each input tile. In the context of a stitching workflow, this can help with\n",
    "    - setting initial tile positions\n",
    "    - storing registered tile positions next to the unfused input data (TODO: not part of this notebook yet)\n",
    "\n",
    "This notebook makes use of user input to place the input tiles (regular tif stacks) on a regular grid to serve as a starting point for registration. This positional metadata is saved in the OME-Zarr files. Optimally, OME-Zarr files that already contain positional metadata can be used as an input to the stitching workflow.\n",
    "\n",
    "#### 3) Perform channel alignment (optional)\n",
    "\n",
    "In case the input data exhibits shifts between the input channels, a tile can be selected that is used for performing a (translational) channel registration.\n",
    "\n",
    "#### 4) Tile registration\n",
    "\n",
    "The tiles are registered using one of the input channels. The obtained transform parameters can be read out.\n",
    "\n",
    "#### 5) Fuse the tiles into a single output image\n",
    "\n",
    "The registered tiles are combined (fused) into a single output image. Weighted averaging is used to smoothly blend the tiles at the tile boundaries by using pixel-wise weights that decrease in proximity to the tile boundaries.\n",
    "\n",
    "The fused image is saved in OME-Zarr format and can be streamed into a tif stack.\n",
    "\n",
    "### Visualization\n",
    "\n",
    "Set `VISUALIZE_USING_NAPARI = True` in the first code cell to use `napari-stitcher` for visualization (needs to be installed separately)."
   ]
  },
  {
   "cell_type": "code",
   "execution_count": 1,
   "metadata": {},
   "outputs": [],
   "source": [
    "# napari-stitcher is required for visualization with napari\n",
    "VISUALIZE_USING_NAPARI = False\n",
    "\n",
    "if VISUALIZE_USING_NAPARI:\n",
    "    import napari\n",
    "    from napari_stitcher import viewer_utils\n",
    "\n",
    "import os\n",
    "import zipfile\n",
    "import xarray as xr\n",
    "from pathlib import Path\n",
    "\n",
    "import dask.diagnostics\n",
    "import ngff_zarr\n",
    "import numpy as np\n",
    "import tifffile\n",
    "from multiview_stitcher import (\n",
    "    fusion,\n",
    "    io,\n",
    "    msi_utils,\n",
    "    ngff_utils,\n",
    "    param_utils,\n",
    "    registration,\n",
    "    spatial_image_utils,\n",
    ")\n",
    "from tqdm import tqdm"
   ]
  },
  {
   "cell_type": "markdown",
   "metadata": {},
   "source": [
    "## Download the example dataset"
   ]
  },
  {
   "cell_type": "code",
   "execution_count": 2,
   "metadata": {},
   "outputs": [
    {
     "data": {
      "text/plain": [
       "[PosixPath('Grid_3d/Grid1/C1-73.tif'),\n",
       " PosixPath('Grid_3d/Grid1/C1-74.tif'),\n",
       " PosixPath('Grid_3d/Grid1/C1-75.tif'),\n",
       " PosixPath('Grid_3d/Grid1/C1-76.tif'),\n",
       " PosixPath('Grid_3d/Grid1/C1-77.tif'),\n",
       " PosixPath('Grid_3d/Grid1/C1-78.tif'),\n",
       " PosixPath('Grid_3d/Grid1/C2-73.tif'),\n",
       " PosixPath('Grid_3d/Grid1/C2-74.tif'),\n",
       " PosixPath('Grid_3d/Grid1/C2-75.tif'),\n",
       " PosixPath('Grid_3d/Grid1/C2-76.tif'),\n",
       " PosixPath('Grid_3d/Grid1/C2-77.tif'),\n",
       " PosixPath('Grid_3d/Grid1/C2-78.tif'),\n",
       " PosixPath('Grid_3d/Grid1/C3-73.tif'),\n",
       " PosixPath('Grid_3d/Grid1/C3-74.tif'),\n",
       " PosixPath('Grid_3d/Grid1/C3-75.tif'),\n",
       " PosixPath('Grid_3d/Grid1/C3-76.tif'),\n",
       " PosixPath('Grid_3d/Grid1/C3-77.tif'),\n",
       " PosixPath('Grid_3d/Grid1/C3-78.tif')]"
      ]
     },
     "execution_count": 2,
     "metadata": {},
     "output_type": "execute_result"
    }
   ],
   "source": [
    "url = \"https://preibischlab.mdc-berlin.de/BigStitcher/Grid_3d.zip\"\n",
    "\n",
    "# directory to save the data\n",
    "base_dir = os.path.join('.', os.path.basename(url)[:-4])\n",
    "os.makedirs(base_dir, exist_ok=True)\n",
    "\n",
    "zip_filepath = os.path.join(base_dir, os.path.basename(url))\n",
    "\n",
    "# download\n",
    "if not os.path.exists(zip_filepath):\n",
    "    from urllib.request import urlretrieve\n",
    "    urlretrieve(url, zip_filepath)\n",
    "\n",
    "# unzip\n",
    "with zipfile.ZipFile(os.path.join(base_dir, os.path.basename(url)), 'r') as zip_ref:\n",
    "    zip_ref.extractall(base_dir)\n",
    "\n",
    "# get the list of files\n",
    "sorted(Path(base_dir).glob('*/*.tif'))"
   ]
  },
  {
   "cell_type": "markdown",
   "metadata": {},
   "source": [
    "## Specify input files"
   ]
  },
  {
   "cell_type": "code",
   "execution_count": 3,
   "metadata": {},
   "outputs": [
    {
     "name": "stdout",
     "output_type": "stream",
     "text": [
      "Example filename:\n",
      " ./Grid_3d/Grid1/C1-73.tif\n"
     ]
    }
   ],
   "source": [
    "# indicate the tiles and channels to process\n",
    "tiles = np.arange(73, 79)\n",
    "channels = np.arange(1, 4)\n",
    "\n",
    "def get_filename_from_tile_and_channel(tile, channel):\n",
    "    \"\"\"\n",
    "    This convenience function returns the filename given the tile and channel.\n",
    "    \"\"\"\n",
    "    return f'./Grid_3d/Grid1/C{channel:01d}-{tile:02d}.tif'\n",
    "\n",
    "print('Example filename:\\n', get_filename_from_tile_and_channel(tiles[0], channels[0]))"
   ]
  },
  {
   "cell_type": "markdown",
   "metadata": {},
   "source": [
    "## Read input data and convert to OME-Zarr\n",
    "\n",
    "This includes (pre-)arranging the tiles on a grid.\n",
    "\n",
    "In the cell below make sure to, for each input tile, indicate the correct\n",
    "- `scale` (or pixel spacing)\n",
    "- `overlap` (the overlap between neighboring tiles relative to the tile image shape)\n",
    "- mapping between the tile index and the grid position (grid index of a given tile)\n",
    "\n",
    "This way of setting the initial tile positions does not fit every tile arrangement and can easily be adapted / replaced. What matters at the end are the arguments `scale` and `translation` passed to `ngff_zarr.NgffImage` that are passed for each tile.\n",
    "\n",
    "You can use \"visualize tile positions/configuration\" two cells further down to check the resulting tile arrangement.\n",
    "\n"
   ]
  },
  {
   "cell_type": "code",
   "execution_count": 4,
   "metadata": {},
   "outputs": [
    {
     "name": "stderr",
     "output_type": "stream",
     "text": [
      "6it [00:13,  2.21s/it]\n"
     ]
    }
   ],
   "source": [
    "# indicate input pixel spacing\n",
    "scale = {'z': 5, 'y': 1, 'x': 1}\n",
    "\n",
    "# indicate approximate overlap between tiles\n",
    "# relative to image shape\n",
    "overlap = 0.1\n",
    "\n",
    "# indicate how the tile index maps onto the grid position for each tile index\n",
    "# (as a function of the tile index)\n",
    "def get_tile_grid_position_from_tile_index(\n",
    "        tile_index, tile_grid_shape=(2, 2)):\n",
    "    return {\n",
    "        'z': 0,\n",
    "        'y': tile_index // tile_grid_shape[0],\n",
    "        'x': tile_index % tile_grid_shape[1],\n",
    "    }\n",
    "\n",
    "# Read input tiles and convert to OME-Zarr files\n",
    "overwrite = True\n",
    "msims = []\n",
    "for tile_index, tile in tqdm(enumerate(tiles[:])):\n",
    "\n",
    "    # where to save the zarr(s)\n",
    "    zarr_path = os.path.join(os.path.dirname(get_filename_from_tile_and_channel(tile, channels[0])),\n",
    "                             f'tile_{tile:02d}')\n",
    "\n",
    "    # if zarr doesn't exist yet, create it\n",
    "    if not os.path.exists(zarr_path) or overwrite:\n",
    "\n",
    "        tile_grid_position = get_tile_grid_position_from_tile_index(tile_index)\n",
    "\n",
    "        # read tile image\n",
    "        im_data = np.array([\n",
    "            tifffile.imread(get_filename_from_tile_and_channel(tile, ch))\n",
    "            for ch in channels])\n",
    "\n",
    "        shape = {dim: im_data.shape[-idim] for idim, dim in enumerate(scale.keys())}\n",
    "        translation = {dim: tile_grid_position[dim] * (1 - overlap) * shape[dim] * scale[dim]\n",
    "                    for dim in scale}\n",
    "\n",
    "        ngff_im = ngff_zarr.NgffImage(\n",
    "            im_data,\n",
    "            dims=('c', 'z', 'y', 'x'),\n",
    "            scale=scale,\n",
    "            translation=translation,\n",
    "            )\n",
    "\n",
    "        ngff_multiscales = ngff_zarr.to_multiscales(ngff_im)\n",
    "\n",
    "        ngff_zarr.to_ngff_zarr(zarr_path, ngff_multiscales)\n",
    "\n",
    "    # open tile image from zarr on disk\n",
    "    msim = ngff_utils.ngff_multiscales_to_msim(\n",
    "        ngff_zarr.from_ngff_zarr(zarr_path),\n",
    "        transform_key=io.METADATA_TRANSFORM_KEY)\n",
    "\n",
    "    msims.append(msim)"
   ]
  },
  {
   "cell_type": "markdown",
   "metadata": {},
   "source": [
    "In case of starting from OME-Zarr data (which includes positional metadata), skip the previous cell and read input data as follows:"
   ]
  },
  {
   "cell_type": "code",
   "execution_count": 5,
   "metadata": {},
   "outputs": [],
   "source": [
    "# # Input file names\n",
    "# zarr_tile_paths = ['tile1.zarr', 'tile2.zarr']\n",
    "\n",
    "# msims = [\n",
    "#     ngff_utils.ngff_multiscales_to_msim(\n",
    "#         ngff_zarr.from_ngff_zarr(zarr_tile_path),\n",
    "#         transform_key=io.METADATA_TRANSFORM_KEY\n",
    "#         )\n",
    "#         for zarr_tile_path in zarr_tile_paths]"
   ]
  },
  {
   "cell_type": "markdown",
   "metadata": {},
   "source": [
    "### Visualize pre-registered views\n",
    "\n",
    "This is useful to make sure that the tiles are correctly arranged"
   ]
  },
  {
   "cell_type": "code",
   "execution_count": 6,
   "metadata": {},
   "outputs": [
    {
     "data": {
      "image/png": "[encoded data removed]",
      "text/plain": [
       "<Figure size 640x480 with 1 Axes>"
      ]
     },
     "metadata": {},
     "output_type": "display_data"
    }
   ],
   "source": [
    "# visualize tile positions/configuration\n",
    "\n",
    "# uncomment the following line for 3D interactivity with the plot (requires ipympl to be installed)\n",
    "# % matplotlib widget\n",
    "\n",
    "from multiview_stitcher import vis_utils\n",
    "\n",
    "fig, ax = vis_utils.plot_positions(\n",
    "    msims,\n",
    "    use_positional_colors=True, # set to False for faster execution in case of more than 20 tiles/views\n",
    "    transform_key='affine_metadata'\n",
    "    )"
   ]
  },
  {
   "cell_type": "code",
   "execution_count": 7,
   "metadata": {},
   "outputs": [],
   "source": [
    "# using napari\n",
    "\n",
    "if VISUALIZE_USING_NAPARI:\n",
    "\n",
    "    ch_coord = 0 # None if all should be shown\n",
    "\n",
    "    viewer = napari.Viewer(ndisplay=msi_utils.get_ndim(msims[0]))\n",
    "    lds = viewer_utils.create_image_layer_tuples_from_msims(\n",
    "        msims, ch_coord=ch_coord, transform_key='affine_metadata', n_colors=2, contrast_limits=[0, 500])\n",
    "    viewer_utils.add_image_layer_tuples_to_viewer(viewer, lds)\n",
    "    viewer.reset_view()\n"
   ]
  },
  {
   "cell_type": "markdown",
   "metadata": {},
   "source": [
    "### Align channels (optional)\n",
    "\n",
    "Perform channel alignment prior to view/tile registration to account for shifts between channels in the input data.\n",
    "The example data does not exhibit significant channel shifts, but this might be useful for other datasets."
   ]
  },
  {
   "cell_type": "code",
   "execution_count": 8,
   "metadata": {},
   "outputs": [],
   "source": [
    "# Turn channel alignment on or off\n",
    "perform_channel_alignment = False\n",
    "\n",
    "# Channel alignment is performed using a single tile.\n",
    "# Choose here which tile (index) to use.\n",
    "channel_alignment_tile_index = 0\n",
    "\n",
    "curr_transform_key = 'affine_metadata'\n",
    "if perform_channel_alignment:\n",
    "    curr_transform_key = 'affine_metadata_ch_reg'\n",
    "\n",
    "    channels = msims[channel_alignment_tile_index]['scale0/image'].coords['c']\n",
    "\n",
    "    # select chosen tiles for registration\n",
    "    msims_ch_reg = [msi_utils.multiscale_sel_coords(msims[5], {'c': ch})\n",
    "                    for ch in channels]\n",
    "\n",
    "    with dask.diagnostics.ProgressBar():\n",
    "        params_c = registration.register(\n",
    "            msims_ch_reg,\n",
    "            registration_binning={'z': 2, 'y': 4, 'x': 4},\n",
    "            reg_channel_index=0,\n",
    "            transform_key='affine_metadata',\n",
    "            pre_registration_pruning_method=None,\n",
    "        )\n",
    "\n",
    "    # assign channel coordinates to obtained parameters\n",
    "    params_c = xr.concat(params_c, dim='c').assign_coords({'c': channels})\n",
    "\n",
    "    # set obtained parameters for all tiles\n",
    "    for msim in msims:\n",
    "        msi_utils.set_affine_transform(\n",
    "            msim, params_c, transform_key=curr_transform_key, base_transform_key='affine_metadata')\n"
   ]
  },
  {
   "cell_type": "markdown",
   "metadata": {},
   "source": [
    "### Register views\n",
    "\n",
    "To optimize registration results, you can explore different values for `registration_binning` and `reg_channel_index`."
   ]
  },
  {
   "cell_type": "code",
   "execution_count": 9,
   "metadata": {},
   "outputs": [
    {
     "name": "stdout",
     "output_type": "stream",
     "text": [
      "[########################################] | 100% Completed | 1.07 sms\n",
      "[########################################] | 100% Completed | 2.64 sms\n",
      "[########################################] | 100% Completed | 4.44 sms\n",
      "[########################################] | 100% Completed | 4.42 sms\n",
      "[########################################] | 100% Completed | 4.69 sms\n",
      "[########################################] | 100% Completed | 2.63 sms\n",
      "[########################################] | 100% Completed | 2.18 sms\n",
      "[########################################] | 100% Completed | 4.40 sms\n"
     ]
    }
   ],
   "source": [
    "with dask.diagnostics.ProgressBar():\n",
    "\n",
    "    params = registration.register(\n",
    "        msims,\n",
    "        registration_binning={'z': 1, 'y': 3, 'x': 3},\n",
    "        reg_channel_index=0,\n",
    "        transform_key=curr_transform_key,\n",
    "        new_transform_key='affine_registered',\n",
    "    )"
   ]
  },
  {
   "cell_type": "markdown",
   "metadata": {},
   "source": [
    "#### Print the obtained parameters.\n",
    "\n",
    "How to interpret them?\n",
    "   - parameters are expressed as homogeneous matrices of dimensions (n+1, n+1)\n",
    "   - the first n rows and columns correspond to the linear part of the transformation\n",
    "   - the first three elements of the last column correspond to the translation in (z, y, x)\n",
    "   - the parameters map the coordinates of the input files (considering their scale and translation) into a world coordinate system in which the tiles are registered\n"
   ]
  },
  {
   "cell_type": "code",
   "execution_count": 10,
   "metadata": {},
   "outputs": [
    {
     "name": "stdout",
     "output_type": "stream",
     "text": [
      "tile index 0\n",
      " [[ 1.          0.          0.          0.        ]\n",
      " [ 0.          1.          0.          6.51573842]\n",
      " [ 0.          0.          1.         -1.50142503]\n",
      " [ 0.          0.          0.          1.        ]]\n",
      "tile index 1\n",
      " [[ 1.          0.          0.          0.        ]\n",
      " [ 0.          1.          0.          6.54781791]\n",
      " [ 0.          0.          1.         -0.00669591]\n",
      " [ 0.          0.          0.          1.        ]]\n",
      "tile index 2\n",
      " [[1. 0. 0. 0.]\n",
      " [0. 1. 0. 0.]\n",
      " [0. 0. 1. 0.]\n",
      " [0. 0. 0. 1.]]\n",
      "tile index 3\n",
      " [[1.         0.         0.         0.        ]\n",
      " [0.         1.         0.         1.07663337]\n",
      " [0.         0.         1.         0.9980847 ]\n",
      " [0.         0.         0.         1.        ]]\n",
      "tile index 4\n",
      " [[ 1.00000000e+00  0.00000000e+00  0.00000000e+00  0.00000000e+00]\n",
      " [ 0.00000000e+00  1.00000000e+00  0.00000000e+00 -2.65078837e+00]\n",
      " [ 0.00000000e+00  0.00000000e+00  1.00000000e+00 -1.44791745e-03]\n",
      " [ 0.00000000e+00  0.00000000e+00  0.00000000e+00  1.00000000e+00]]\n",
      "tile index 5\n",
      " [[ 1.          0.          0.          0.        ]\n",
      " [ 0.          1.          0.         -3.78535775]\n",
      " [ 0.          0.          1.          0.99328883]\n",
      " [ 0.          0.          0.          1.        ]]\n"
     ]
    }
   ],
   "source": [
    "for imsim, msim in enumerate(msims):\n",
    "    affine = np.array(msi_utils.get_transform_from_msim(msim, transform_key='affine_registered')[0])\n",
    "    print(f'tile index {imsim}\\n', affine)"
   ]
  },
  {
   "cell_type": "markdown",
   "metadata": {},
   "source": [
    "### Visualize registration"
   ]
  },
  {
   "cell_type": "code",
   "execution_count": 11,
   "metadata": {},
   "outputs": [],
   "source": [
    "if VISUALIZE_USING_NAPARI:\n",
    "\n",
    "    viewer = napari.Viewer(ndisplay=msi_utils.get_ndim(msims[0]))\n",
    "\n",
    "    ch_coord = 0 # None if all should be shown\n",
    "\n",
    "    lds = viewer_utils.create_image_layer_tuples_from_msims(\n",
    "        msims, ch_coord=ch_coord, transform_key='affine_registered', n_colors=2,\n",
    "        name_prefix='registered view',\n",
    "        contrast_limits=[0, 500],\n",
    "        )\n",
    "    rlayers = viewer_utils.add_image_layer_tuples_to_viewer(viewer, lds, do_link_layers=True)\n",
    "\n",
    "    viewer.reset_view()"
   ]
  },
  {
   "cell_type": "markdown",
   "metadata": {},
   "source": [
    "### Fuse views (linear blending)\n",
    "#### Save output into OME-Zarr"
   ]
  },
  {
   "cell_type": "code",
   "execution_count": 12,
   "metadata": {},
   "outputs": [
    {
     "name": "stdout",
     "output_type": "stream",
     "text": [
      "Fusing views and saving output to ./Grid_3d/fused.zarr...\n",
      "[########################################] | 100% Completed | 21.95 ss\n",
      "[########################################] | 100% Completed | 550.50 ms\n",
      "[########################################] | 100% Completed | 105.86 ms\n",
      "[########################################] | 100% Completed | 103.69 ms\n",
      "[########################################] | 100% Completed | 105.70 ms\n",
      "[########################################] | 100% Completed | 105.14 ms\n",
      "[########################################] | 100% Completed | 103.78 ms\n",
      "[########################################] | 100% Completed | 101.70 ms\n"
     ]
    }
   ],
   "source": [
    "output_dir = base_dir\n",
    "output_filename = os.path.join(output_dir, 'fused.zarr')\n",
    "\n",
    "fused = fusion.fuse(\n",
    "    [msi_utils.get_sim_from_msim(msim) for msim in msims],\n",
    "    transform_key='affine_registered',\n",
    "    output_chunksize=256,\n",
    "    )\n",
    "\n",
    "print(f'Fusing views and saving output to {output_filename}...')\n",
    "with dask.diagnostics.ProgressBar():\n",
    "    fused = ngff_utils.write_sim_to_ome_zarr(\n",
    "        fused, output_filename\n",
    "    )\n"
   ]
  },
  {
   "cell_type": "markdown",
   "metadata": {},
   "source": [
    "### Visualize fusion in napari\n",
    "\n",
    "The output file can also be opened in napari using the napari-ome-zarr plugin."
   ]
  },
  {
   "cell_type": "code",
   "execution_count": 13,
   "metadata": {},
   "outputs": [],
   "source": [
    "if VISUALIZE_USING_NAPARI:\n",
    "\n",
    "    viewer = napari.Viewer(ndisplay=msi_utils.get_ndim(msims[0]))\n",
    "\n",
    "    ch_coord = None\n",
    "\n",
    "    lds = viewer_utils.create_image_layer_tuples_from_msims(\n",
    "        [mfused],\n",
    "        ch_coord=ch_coord,\n",
    "        transform_key='affine_registered',\n",
    "        name_prefix='fused',\n",
    "        contrast_limits=[0, 500])\n",
    "\n",
    "    viewer_utils.add_image_layer_tuples_to_viewer(viewer, lds)"
   ]
  },
  {
   "cell_type": "code",
   "execution_count": 14,
   "metadata": {},
   "outputs": [
    {
     "name": "stdout",
     "output_type": "stream",
     "text": [
      "Streaming into ./Grid_3d/fused.tif...\n"
     ]
    },
    {
     "name": "stderr",
     "output_type": "stream",
     "text": [
      "  0%|          | 0/3 [00:00<?, ?it/s]"
     ]
    },
    {
     "name": "stdout",
     "output_type": "stream",
     "text": [
      "[########################################] | 100% Completed | 105.83 ms\n"
     ]
    },
    {
     "name": "stderr",
     "output_type": "stream",
     "text": [
      " 33%|███▎      | 1/3 [00:00<00:00,  3.60it/s]"
     ]
    },
    {
     "name": "stdout",
     "output_type": "stream",
     "text": [
      "[########################################] | 100% Completed | 104.47 ms\n"
     ]
    },
    {
     "name": "stderr",
     "output_type": "stream",
     "text": [
      " 67%|██████▋   | 2/3 [00:00<00:00,  3.88it/s]"
     ]
    },
    {
     "name": "stdout",
     "output_type": "stream",
     "text": [
      "[########################################] | 100% Completed | 103.69 ms\n"
     ]
    },
    {
     "name": "stderr",
     "output_type": "stream",
     "text": [
      "100%|██████████| 3/3 [00:01<00:00,  2.88it/s]\n"
     ]
    }
   ],
   "source": [
    "# stream fused image into tif\n",
    "# i.e. convert OME-Zarr output into tif\n",
    "\n",
    "output_filename = os.path.join(output_dir, 'fused.tif')\n",
    "\n",
    "print(f'Streaming into {output_filename}...')\n",
    "with dask.diagnostics.ProgressBar():\n",
    "    io.save_sim_as_tif(\n",
    "        output_filename,\n",
    "        fused)"
   ]
  }
 ],
 "metadata": {
  "kernelspec": {
   "display_name": "Python 3 (ipykernel)",
   "language": "python",
   "name": "python3"
  },
  "language_info": {
   "codemirror_mode": {
    "name": "ipython",
    "version": 3
   },
   "file_extension": ".py",
   "mimetype": "text/x-python",
   "name": "python",
   "nbconvert_exporter": "python",
   "pygments_lexer": "ipython3",
   "version": "3.10.13"
  }
 },
 "nbformat": 4,
 "nbformat_minor": 4
}
