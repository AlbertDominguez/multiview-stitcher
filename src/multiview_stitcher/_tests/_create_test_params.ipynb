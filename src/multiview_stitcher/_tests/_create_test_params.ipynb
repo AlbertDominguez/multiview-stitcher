{
 "cells": [
  {
   "cell_type": "markdown",
   "metadata": {},
   "source": [
    "# Obtain ground truth params for test datasets\n",
    "\n",
    "Convenience notebook for creating ground truth parameters for test datasets."
   ]
  },
  {
   "cell_type": "code",
   "execution_count": 1,
   "metadata": {},
   "outputs": [
    {
     "data": {
      "text/plain": [
       "<module 'multiview_stitcher._tests.test_bench' from '/Users/malbert/software/multiview-stitcher/src/multiview_stitcher/_tests/test_bench.py'>"
      ]
     },
     "execution_count": 1,
     "metadata": {},
     "output_type": "execute_result"
    }
   ],
   "source": [
    "from pathlib import Path\n",
    "\n",
    "from multiview_stitcher._tests import test_bench\n",
    "from multiview_stitcher import vis_utils, io\n",
    "\n",
    "import importlib\n",
    "importlib.reload(test_bench)"
   ]
  },
  {
   "cell_type": "code",
   "execution_count": 2,
   "metadata": {},
   "outputs": [
    {
     "name": "stdout",
     "output_type": "stream",
     "text": [
      "/Users/malbert/software/multiview-stitcher/image-datasets/test_bench_data\n"
     ]
    },
    {
     "data": {
      "image/png": "[encoded data removed]",
      "text/plain": [
       "<Figure size 640x480 with 1 Axes>"
      ]
     },
     "metadata": {},
     "output_type": "display_data"
    },
    {
     "data": {
      "text/plain": [
       "(<Figure size 640x480 with 1 Axes>,\n",
       " <Axes3D: xlabel='z [μm]', ylabel='x [μm]', zlabel='y [μm]'>)"
      ]
     },
     "execution_count": 2,
     "metadata": {},
     "output_type": "execute_result"
    }
   ],
   "source": [
    "print(test_bench.test_bench_data_dir)\n",
    "\n",
    "dataset = test_bench.datasets[0]\n",
    "msims = test_bench.get_msims_from_dataset(dataset)\n",
    "\n",
    "vis_utils.plot_positions(msims, io.METADATA_TRANSFORM_KEY, use_positional_colors=False)"
   ]
  },
  {
   "cell_type": "code",
   "execution_count": 3,
   "metadata": {},
   "outputs": [],
   "source": [
    "params = test_bench.register_dataset(msims, dataset)"
   ]
  },
  {
   "cell_type": "code",
   "execution_count": 7,
   "metadata": {},
   "outputs": [],
   "source": [
    "\n",
    "from napari_stitcher import viewer_utils\n",
    "import napari\n",
    "\n",
    "viewer = napari.Viewer(ndisplay=2)\n",
    "lds = viewer_utils.create_image_layer_tuples_from_msims(\n",
    "    msims, transform_key='registered', n_colors=4, contrast_limits=[0, 1000])\n",
    "viewer_utils.add_image_layer_tuples_to_viewer(viewer, lds, manage_viewer_transformations=True)\n",
    "viewer.reset_view()\n",
    "    "
   ]
  },
  {
   "cell_type": "code",
   "execution_count": null,
   "metadata": {},
   "outputs": [
    {
     "name": "stdout",
     "output_type": "stream",
     "text": [
      "Opening Neuroglancer in browser...\n",
      "URL: https://neuroglancer-demo.appspot.com/#!%7B%22dimensions%22%3A%7B%22t%22%3A%5B1.0%2C%22%22%5D%2C%22c%22%3A%5B1.0%2C%22%22%5D%2C%22y%22%3A%5B8.913225446428579e-07%2C%22%22%5D%2C%22x%22%3A%5B8.913225446428579e-07%2C%22%22%5D%7D%2C%22displayDimensions%22%3A%5B%22x%22%2C%22y%22%5D%2C%22layerListPanel%22%3A%7B%22visible%22%3Atrue%7D%2C%22layout%22%3A%22xy%22%2C%22layers%22%3A%5B%7B%22type%22%3A%22image%22%2C%22source%22%3A%7B%22url%22%3A%22zarr%3A//http%3A//localhost%3A8000/sim_0.zarr%22%2C%22transform%22%3A%7B%22matrix%22%3A%5B%5B1.0%2C0.0%2C0.0%2C0.0%2C0.0%5D%2C%5B0.0%2C1.0%2C0.0%2C0.0%2C0.0%5D%2C%5B0.0%2C0.0%2C1.0%2C0.0%2C0.0%5D%2C%5B0.0%2C0.0%2C0.0%2C1.0%2C0.0%5D%5D%2C%22outputDimensions%22%3A%7B%22t%22%3A%5B1.0%2C%22%22%5D%2C%22c%27%22%3A%5B1.0%2C%22%22%5D%2C%22y%22%3A%5B8.913225446428579e-07%2C%22%22%5D%2C%22x%22%3A%5B8.913225446428579e-07%2C%22%22%5D%7D%7D%7D%2C%22localDimensions%22%3A%7B%22c%27%22%3A%5B1%2C%22%22%5D%7D%2C%22localPosition%22%3A%5B0%5D%2C%22tab%22%3A%22rendering%22%2C%22opacity%22%3A0.6%2C%22name%22%3A%22View%200%22%2C%22shaderControls%22%3A%7B%22normalized%22%3A%7B%22range%22%3A%5B11.0%2C79.0%5D%2C%22window%22%3A%5B11.0%2C79.0%5D%7D%7D%7D%2C%7B%22type%22%3A%22image%22%2C%22source%22%3A%7B%22url%22%3A%22zarr%3A//http%3A//localhost%3A8000/sim_1.zarr%22%2C%22transform%22%3A%7B%22matrix%22%3A%5B%5B1.0%2C0.0%2C0.0%2C0.0%2C0.0%5D%2C%5B0.0%2C1.0%2C0.0%2C0.0%2C0.0%5D%2C%5B0.0%2C0.0%2C1.0%2C0.0%2C20.700000000000866%5D%2C%5B0.0%2C0.0%2C0.0%2C1.0%2C-5.999999999999915%5D%5D%2C%22outputDimensions%22%3A%7B%22t%22%3A%5B1.0%2C%22%22%5D%2C%22c%27%22%3A%5B1.0%2C%22%22%5D%2C%22y%22%3A%5B8.913225446428579e-07%2C%22%22%5D%2C%22x%22%3A%5B8.913225446428579e-07%2C%22%22%5D%7D%7D%7D%2C%22localDimensions%22%3A%7B%22c%27%22%3A%5B1%2C%22%22%5D%7D%2C%22localPosition%22%3A%5B0%5D%2C%22tab%22%3A%22rendering%22%2C%22opacity%22%3A0.6%2C%22name%22%3A%22View%201%22%2C%22shaderControls%22%3A%7B%22normalized%22%3A%7B%22range%22%3A%5B11.0%2C79.0%5D%2C%22window%22%3A%5B11.0%2C79.0%5D%7D%7D%7D%5D%7D\n",
      "Controls:\n",
      "All panels\n",
      "\t\tZoom: Ctrl + Mousewheel\n",
      "Projection panels:\n",
      "\t\tPan: Drag\n",
      "\t\tRotate: Shift + Drag\n",
      "3D view:\n",
      "\t\tPan: Shift + Drag\n",
      "\t\tRotate: Drag\n",
      "Serving images until interrupted...\n",
      "Serving HTTP on :: port 8000 (http://[::]:8000/) ...\n",
      "\n",
      "Keyboard interrupt received, exiting.\n"
     ]
    },
    {
     "ename": "SystemExit",
     "evalue": "0",
     "output_type": "error",
     "traceback": [
      "An exception has occurred, use %tb to see the full traceback.\n",
      "\u001b[0;31mSystemExit\u001b[0m\u001b[0;31m:\u001b[0m 0\n"
     ]
    },
    {
     "name": "stderr",
     "output_type": "stream",
     "text": [
      "/Users/malbert/miniconda3/envs/ms_dev/lib/python3.11/site-packages/IPython/core/interactiveshell.py:3587: UserWarning:\n",
      "\n",
      "To exit: use 'exit', 'quit', or Ctrl-D.\n",
      "\n"
     ]
    }
   ],
   "source": [
    "# doesn't work with time\n",
    "\n",
    "from multiview_stitcher import vis_utils, ngff_utils, msi_utils\n",
    "import importlib\n",
    "importlib.reload(vis_utils)\n",
    "\n",
    "import tempfile\n",
    "\n",
    "with tempfile.TemporaryDirectory() as tmp_dir:\n",
    "\n",
    "    tmp_dir = Path(tmp_dir)\n",
    "    # tmp_dir = Path(\"/Users/malbert/Downloads\")\n",
    "\n",
    "    zarr_paths = [tmp_dir / f\"sim_{imsim}.zarr\" for imsim, msim in enumerate(msims)]\n",
    "\n",
    "    sims = [msi_utils.get_sim_from_msim(msim) for msim in msims]\n",
    "\n",
    "    for imsim, msim in enumerate(msims):\n",
    "        ngff_utils.write_sim_to_ome_zarr(\n",
    "            msi_utils.get_sim_from_msim(msim),\n",
    "            zarr_paths[imsim], overwrite=False)\n",
    "\n",
    "    # sims = [ngff_utils.write_sim_to_ome_zarr(\n",
    "    #     msi_utils.get_sim_from_msim(msim),\n",
    "    #     zarr_paths[imsim], overwrite=False) for imsim, msim in enumerate(msims)]\n",
    "\n",
    "    vis_utils.view_neuroglancer(\n",
    "        sims,\n",
    "        zarr_paths=zarr_paths,\n",
    "        # channel_coord='DAPI',\n",
    "        transform_key=\"registered\",\n",
    "        # single_layer=False,\n",
    "    )"
   ]
  }
 ],
 "metadata": {
  "kernelspec": {
   "display_name": "ms_ns",
   "language": "python",
   "name": "python3"
  },
  "language_info": {
   "codemirror_mode": {
    "name": "ipython",
    "version": 3
   },
   "file_extension": ".py",
   "mimetype": "text/x-python",
   "name": "python",
   "nbconvert_exporter": "python",
   "pygments_lexer": "ipython3",
   "version": "3.11.11"
  }
 },
 "nbformat": 4,
 "nbformat_minor": 2
}
